{
 "cells": [
  {
   "cell_type": "markdown",
   "metadata": {},
   "source": [
    "# Summary\n",
    "\n",
    "Use [`python-fitbit`](http://python-fitbit.readthedocs.io/en/latest/#) to interact with the Fitbit API and download activity data. Convert data to pandas dataframe and write to disk."
   ]
  },
  {
   "cell_type": "code",
   "execution_count": 1,
   "metadata": {
    "collapsed": true
   },
   "outputs": [],
   "source": [
    "import fitbit\n",
    "import os\n",
    "import pandas as pd\n",
    "from tqdm import tqdm\n",
    "from dotenv import load_dotenv, find_dotenv\n",
    "import matplotlib.pyplot as plt\n",
    "%matplotlib inline\n",
    "\n",
    "import seaborn as sns\n",
    "sns.set_context('poster')"
   ]
  },
  {
   "cell_type": "code",
   "execution_count": 2,
   "metadata": {
    "collapsed": true
   },
   "outputs": [],
   "source": [
    "# find .env automagically by walking up directories until it's found\n",
    "dotenv_path = find_dotenv()\n",
    "\n",
    "# load up the entries as environment variables\n",
    "load_dotenv(dotenv_path)\n",
    "\n",
    "client_id = os.environ.get(\"CLIENT_ID\")\n",
    "client_secret = os.environ.get(\"CLIENT_SECRET\")\n",
    "access_token = os.environ.get(\"ACCESS_TOKEN\")\n",
    "refresh_token = os.environ.get(\"REFRESH_TOKEN\")\n",
    "expires_at = float(os.environ.get(\"EXPIRES_AT\"))"
   ]
  },
  {
   "cell_type": "code",
   "execution_count": 3,
   "metadata": {
    "collapsed": true
   },
   "outputs": [],
   "source": [
    "authd_client = fitbit.Fitbit(client_id, client_secret, access_token=access_token, \n",
    "                             refresh_token=refresh_token, expires_at=expires_at)"
   ]
  },
  {
   "cell_type": "code",
   "execution_count": 30,
   "metadata": {},
   "outputs": [],
   "source": [
    "resources = [\n",
    "    'activities/calories',  \n",
    "    'activities/caloriesBMR',\n",
    "    'activities/steps',\n",
    "    'activities/distance',\n",
    "    'activities/minutesSedentary',\n",
    "    'activities/minutesLightlyActive',\n",
    "    'activities/minutesFairlyActive',\n",
    "    'activities/minutesVeryActive',\n",
    "#     'activities/activityCalories'\n",
    "]\n",
    "df_activity = pd.DataFrame({})\n",
    "for resource in resources:\n",
    "    activity = resource.split('/')[1]\n",
    "    resource_name = \"-\".join(resource.split('/'))\n",
    "    activity_time_series = authd_client.time_series(resource, base_date='today', end_date='2016-11-09')\n",
    "    df_activity[activity] = [resource_dict['value'] for resource_dict in activity_time_series[resource_name]]\n",
    "df_activity['datetime'] = [resource_dict['dateTime'] for resource_dict in activity_time_series[resource_name]]"
   ]
  },
  {
   "cell_type": "code",
   "execution_count": 32,
   "metadata": {},
   "outputs": [],
   "source": [
    "df_activity['datetime'] = pd.to_datetime(df_activity['datetime'])\n",
    "df_activity = df_activity.set_index('datetime')"
   ]
  },
  {
   "cell_type": "code",
   "execution_count": 33,
   "metadata": {},
   "outputs": [
    {
     "data": {
      "text/html": [
       "<div>\n",
       "<style>\n",
       "    .dataframe thead tr:only-child th {\n",
       "        text-align: right;\n",
       "    }\n",
       "\n",
       "    .dataframe thead th {\n",
       "        text-align: left;\n",
       "    }\n",
       "\n",
       "    .dataframe tbody tr th {\n",
       "        vertical-align: top;\n",
       "    }\n",
       "</style>\n",
       "<table border=\"1\" class=\"dataframe\">\n",
       "  <thead>\n",
       "    <tr style=\"text-align: right;\">\n",
       "      <th></th>\n",
       "      <th>calories</th>\n",
       "      <th>caloriesBMR</th>\n",
       "      <th>steps</th>\n",
       "      <th>distance</th>\n",
       "      <th>minutesSedentary</th>\n",
       "      <th>minutesLightlyActive</th>\n",
       "      <th>minutesFairlyActive</th>\n",
       "      <th>minutesVeryActive</th>\n",
       "    </tr>\n",
       "    <tr>\n",
       "      <th>datetime</th>\n",
       "      <th></th>\n",
       "      <th></th>\n",
       "      <th></th>\n",
       "      <th></th>\n",
       "      <th></th>\n",
       "      <th></th>\n",
       "      <th></th>\n",
       "      <th></th>\n",
       "    </tr>\n",
       "  </thead>\n",
       "  <tbody>\n",
       "    <tr>\n",
       "      <th>2016-11-09</th>\n",
       "      <td>3200</td>\n",
       "      <td>1735</td>\n",
       "      <td>17760</td>\n",
       "      <td>8.47530422009856</td>\n",
       "      <td>712</td>\n",
       "      <td>301</td>\n",
       "      <td>29</td>\n",
       "      <td>68</td>\n",
       "    </tr>\n",
       "    <tr>\n",
       "      <th>2016-11-10</th>\n",
       "      <td>3733</td>\n",
       "      <td>1733</td>\n",
       "      <td>21888</td>\n",
       "      <td>10.47757346692784</td>\n",
       "      <td>449</td>\n",
       "      <td>322</td>\n",
       "      <td>98</td>\n",
       "      <td>106</td>\n",
       "    </tr>\n",
       "    <tr>\n",
       "      <th>2016-11-11</th>\n",
       "      <td>3094</td>\n",
       "      <td>1732</td>\n",
       "      <td>15847</td>\n",
       "      <td>7.69073609823168</td>\n",
       "      <td>572</td>\n",
       "      <td>284</td>\n",
       "      <td>66</td>\n",
       "      <td>51</td>\n",
       "    </tr>\n",
       "    <tr>\n",
       "      <th>2016-11-12</th>\n",
       "      <td>2994</td>\n",
       "      <td>1731</td>\n",
       "      <td>15215</td>\n",
       "      <td>7.26079694306304</td>\n",
       "      <td>620</td>\n",
       "      <td>273</td>\n",
       "      <td>61</td>\n",
       "      <td>31</td>\n",
       "    </tr>\n",
       "    <tr>\n",
       "      <th>2016-11-13</th>\n",
       "      <td>3009</td>\n",
       "      <td>1730</td>\n",
       "      <td>14414</td>\n",
       "      <td>6.91717867388704</td>\n",
       "      <td>616</td>\n",
       "      <td>307</td>\n",
       "      <td>32</td>\n",
       "      <td>49</td>\n",
       "    </tr>\n",
       "  </tbody>\n",
       "</table>\n",
       "</div>"
      ],
      "text/plain": [
       "           calories caloriesBMR  steps           distance minutesSedentary  \\\n",
       "datetime                                                                     \n",
       "2016-11-09     3200        1735  17760   8.47530422009856              712   \n",
       "2016-11-10     3733        1733  21888  10.47757346692784              449   \n",
       "2016-11-11     3094        1732  15847   7.69073609823168              572   \n",
       "2016-11-12     2994        1731  15215   7.26079694306304              620   \n",
       "2016-11-13     3009        1730  14414   6.91717867388704              616   \n",
       "\n",
       "           minutesLightlyActive minutesFairlyActive minutesVeryActive  \n",
       "datetime                                                               \n",
       "2016-11-09                  301                  29                68  \n",
       "2016-11-10                  322                  98               106  \n",
       "2016-11-11                  284                  66                51  \n",
       "2016-11-12                  273                  61                31  \n",
       "2016-11-13                  307                  32                49  "
      ]
     },
     "execution_count": 33,
     "metadata": {},
     "output_type": "execute_result"
    }
   ],
   "source": [
    "df_activity.head()"
   ]
  },
  {
   "cell_type": "code",
   "execution_count": 34,
   "metadata": {
    "collapsed": true
   },
   "outputs": [],
   "source": [
    "data_path = os.path.join(os.getcwd(), os.pardir, 'data', 'interim', 'activity_data.csv')\n",
    "df_activity.to_csv(data_path, index_label='datetime')"
   ]
  },
  {
   "cell_type": "code",
   "execution_count": null,
   "metadata": {
    "collapsed": true
   },
   "outputs": [],
   "source": []
  }
 ],
 "metadata": {
  "kernelspec": {
   "display_name": "Python 3",
   "language": "python",
   "name": "python3"
  },
  "language_info": {
   "codemirror_mode": {
    "name": "ipython",
    "version": 3
   },
   "file_extension": ".py",
   "mimetype": "text/x-python",
   "name": "python",
   "nbconvert_exporter": "python",
   "pygments_lexer": "ipython3",
   "version": "3.6.1"
  }
 },
 "nbformat": 4,
 "nbformat_minor": 2
}
