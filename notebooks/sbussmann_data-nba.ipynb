{
 "cells": [
  {
   "cell_type": "markdown",
   "metadata": {},
   "source": [
    "# Summary\n",
    "\n",
    "Do I sleep less on nights when the Warriors play?"
   ]
  },
  {
   "cell_type": "code",
   "execution_count": 2,
   "metadata": {
    "collapsed": true
   },
   "outputs": [],
   "source": [
    "import pandas as pd\n",
    "import os\n",
    "import matplotlib.pyplot as plt\n",
    "%matplotlib inline\n",
    "import seaborn as sns\n",
    "import nba_py\n",
    "\n",
    "sns.set_context('poster')\n",
    "import plotly.offline as py\n",
    "import plotly.graph_objs as go"
   ]
  },
  {
   "cell_type": "code",
   "execution_count": 3,
   "metadata": {},
   "outputs": [
    {
     "data": {
      "text/html": [
       "<script>requirejs.config({paths: { 'plotly': ['https://cdn.plot.ly/plotly-latest.min']},});if(!window.Plotly) {{require(['plotly'],function(plotly) {window.Plotly=plotly;});}}</script>"
      ],
      "text/vnd.plotly.v1+html": [
       "<script>requirejs.config({paths: { 'plotly': ['https://cdn.plot.ly/plotly-latest.min']},});if(!window.Plotly) {{require(['plotly'],function(plotly) {window.Plotly=plotly;});}}</script>"
      ]
     },
     "metadata": {},
     "output_type": "display_data"
    }
   ],
   "source": [
    "py.init_notebook_mode(connected=True)"
   ]
  },
  {
   "cell_type": "code",
   "execution_count": 4,
   "metadata": {
    "collapsed": true
   },
   "outputs": [],
   "source": [
    "data_path = os.path.join(os.getcwd(), os.pardir, 'data', 'interim', 'sleep_data.csv')\n",
    "df_sleep = pd.read_csv(data_path, index_col='shifted_datetime', parse_dates=True)"
   ]
  },
  {
   "cell_type": "code",
   "execution_count": 5,
   "metadata": {
    "collapsed": true
   },
   "outputs": [],
   "source": [
    "df_sleep.index += pd.Timedelta(hours=12)"
   ]
  },
  {
   "cell_type": "code",
   "execution_count": 6,
   "metadata": {
    "collapsed": true
   },
   "outputs": [],
   "source": [
    "sleep_day = df_sleep.resample('1D').sum().fillna(0)"
   ]
  },
  {
   "cell_type": "code",
   "execution_count": 7,
   "metadata": {},
   "outputs": [],
   "source": [
    "from nba_py import league"
   ]
  },
  {
   "cell_type": "code",
   "execution_count": 8,
   "metadata": {},
   "outputs": [],
   "source": [
    "gswlog = league.GameLog(player_or_team='T')"
   ]
  },
  {
   "cell_type": "code",
   "execution_count": 9,
   "metadata": {},
   "outputs": [],
   "source": [
    "league_logs = gswlog.json['resultSets'][0]['rowSet']"
   ]
  },
  {
   "cell_type": "code",
   "execution_count": 10,
   "metadata": {
    "collapsed": true
   },
   "outputs": [],
   "source": [
    "columns = gswlog.json['resultSets'][0]['headers']"
   ]
  },
  {
   "cell_type": "code",
   "execution_count": 11,
   "metadata": {},
   "outputs": [],
   "source": [
    "df_league = pd.DataFrame(league_logs, columns=columns)"
   ]
  },
  {
   "cell_type": "code",
   "execution_count": 12,
   "metadata": {},
   "outputs": [
    {
     "data": {
      "text/plain": [
       "Index(['SEASON_ID', 'TEAM_ID', 'TEAM_ABBREVIATION', 'TEAM_NAME', 'GAME_ID',\n",
       "       'GAME_DATE', 'MATCHUP', 'WL', 'MIN', 'FGM', 'FGA', 'FG_PCT', 'FG3M',\n",
       "       'FG3A', 'FG3_PCT', 'FTM', 'FTA', 'FT_PCT', 'OREB', 'DREB', 'REB', 'AST',\n",
       "       'STL', 'BLK', 'TOV', 'PF', 'PTS', 'PLUS_MINUS', 'VIDEO_AVAILABLE'],\n",
       "      dtype='object')"
      ]
     },
     "execution_count": 12,
     "metadata": {},
     "output_type": "execute_result"
    }
   ],
   "source": [
    "df_league.columns"
   ]
  },
  {
   "cell_type": "code",
   "execution_count": 13,
   "metadata": {
    "collapsed": true
   },
   "outputs": [],
   "source": [
    "gsw_games = df_league[df_league['TEAM_ABBREVIATION'] == 'GSW']"
   ]
  },
  {
   "cell_type": "code",
   "execution_count": 14,
   "metadata": {},
   "outputs": [
    {
     "data": {
      "text/plain": [
       "82"
      ]
     },
     "execution_count": 14,
     "metadata": {},
     "output_type": "execute_result"
    }
   ],
   "source": [
    "len(gsw_games)"
   ]
  },
  {
   "cell_type": "code",
   "execution_count": 15,
   "metadata": {},
   "outputs": [
    {
     "data": {
      "text/html": [
       "<div>\n",
       "<style>\n",
       "    .dataframe thead tr:only-child th {\n",
       "        text-align: right;\n",
       "    }\n",
       "\n",
       "    .dataframe thead th {\n",
       "        text-align: left;\n",
       "    }\n",
       "\n",
       "    .dataframe tbody tr th {\n",
       "        vertical-align: top;\n",
       "    }\n",
       "</style>\n",
       "<table border=\"1\" class=\"dataframe\">\n",
       "  <thead>\n",
       "    <tr style=\"text-align: right;\">\n",
       "      <th></th>\n",
       "      <th>SEASON_ID</th>\n",
       "      <th>TEAM_ID</th>\n",
       "      <th>TEAM_ABBREVIATION</th>\n",
       "      <th>TEAM_NAME</th>\n",
       "      <th>GAME_ID</th>\n",
       "      <th>GAME_DATE</th>\n",
       "      <th>MATCHUP</th>\n",
       "      <th>WL</th>\n",
       "      <th>MIN</th>\n",
       "      <th>FGM</th>\n",
       "      <th>...</th>\n",
       "      <th>DREB</th>\n",
       "      <th>REB</th>\n",
       "      <th>AST</th>\n",
       "      <th>STL</th>\n",
       "      <th>BLK</th>\n",
       "      <th>TOV</th>\n",
       "      <th>PF</th>\n",
       "      <th>PTS</th>\n",
       "      <th>PLUS_MINUS</th>\n",
       "      <th>VIDEO_AVAILABLE</th>\n",
       "    </tr>\n",
       "  </thead>\n",
       "  <tbody>\n",
       "    <tr>\n",
       "      <th>0</th>\n",
       "      <td>22016</td>\n",
       "      <td>1610612744</td>\n",
       "      <td>GSW</td>\n",
       "      <td>Golden State Warriors</td>\n",
       "      <td>0021600223</td>\n",
       "      <td>2016-11-23</td>\n",
       "      <td>GSW vs. LAL</td>\n",
       "      <td>W</td>\n",
       "      <td>240</td>\n",
       "      <td>53</td>\n",
       "      <td>...</td>\n",
       "      <td>42</td>\n",
       "      <td>48</td>\n",
       "      <td>47</td>\n",
       "      <td>7</td>\n",
       "      <td>5</td>\n",
       "      <td>10</td>\n",
       "      <td>20</td>\n",
       "      <td>149</td>\n",
       "      <td>43</td>\n",
       "      <td>1</td>\n",
       "    </tr>\n",
       "    <tr>\n",
       "      <th>1</th>\n",
       "      <td>22016</td>\n",
       "      <td>1610612744</td>\n",
       "      <td>GSW</td>\n",
       "      <td>Golden State Warriors</td>\n",
       "      <td>0021600707</td>\n",
       "      <td>2017-01-28</td>\n",
       "      <td>GSW vs. LAC</td>\n",
       "      <td>W</td>\n",
       "      <td>240</td>\n",
       "      <td>57</td>\n",
       "      <td>...</td>\n",
       "      <td>39</td>\n",
       "      <td>48</td>\n",
       "      <td>35</td>\n",
       "      <td>9</td>\n",
       "      <td>7</td>\n",
       "      <td>11</td>\n",
       "      <td>17</td>\n",
       "      <td>144</td>\n",
       "      <td>46</td>\n",
       "      <td>1</td>\n",
       "    </tr>\n",
       "    <tr>\n",
       "      <th>5</th>\n",
       "      <td>22016</td>\n",
       "      <td>1610612744</td>\n",
       "      <td>GSW</td>\n",
       "      <td>Golden State Warriors</td>\n",
       "      <td>0021600314</td>\n",
       "      <td>2016-12-05</td>\n",
       "      <td>GSW vs. IND</td>\n",
       "      <td>W</td>\n",
       "      <td>240</td>\n",
       "      <td>54</td>\n",
       "      <td>...</td>\n",
       "      <td>38</td>\n",
       "      <td>54</td>\n",
       "      <td>45</td>\n",
       "      <td>12</td>\n",
       "      <td>13</td>\n",
       "      <td>11</td>\n",
       "      <td>22</td>\n",
       "      <td>142</td>\n",
       "      <td>36</td>\n",
       "      <td>1</td>\n",
       "    </tr>\n",
       "    <tr>\n",
       "      <th>10</th>\n",
       "      <td>22016</td>\n",
       "      <td>1610612744</td>\n",
       "      <td>GSW</td>\n",
       "      <td>Golden State Warriors</td>\n",
       "      <td>0021601152</td>\n",
       "      <td>2017-04-02</td>\n",
       "      <td>GSW vs. WAS</td>\n",
       "      <td>W</td>\n",
       "      <td>240</td>\n",
       "      <td>50</td>\n",
       "      <td>...</td>\n",
       "      <td>34</td>\n",
       "      <td>44</td>\n",
       "      <td>34</td>\n",
       "      <td>7</td>\n",
       "      <td>10</td>\n",
       "      <td>16</td>\n",
       "      <td>20</td>\n",
       "      <td>139</td>\n",
       "      <td>24</td>\n",
       "      <td>1</td>\n",
       "    </tr>\n",
       "    <tr>\n",
       "      <th>13</th>\n",
       "      <td>22016</td>\n",
       "      <td>1610612744</td>\n",
       "      <td>GSW</td>\n",
       "      <td>Golden State Warriors</td>\n",
       "      <td>0021600299</td>\n",
       "      <td>2016-12-03</td>\n",
       "      <td>GSW vs. PHX</td>\n",
       "      <td>W</td>\n",
       "      <td>240</td>\n",
       "      <td>49</td>\n",
       "      <td>...</td>\n",
       "      <td>32</td>\n",
       "      <td>38</td>\n",
       "      <td>37</td>\n",
       "      <td>9</td>\n",
       "      <td>5</td>\n",
       "      <td>17</td>\n",
       "      <td>19</td>\n",
       "      <td>138</td>\n",
       "      <td>29</td>\n",
       "      <td>1</td>\n",
       "    </tr>\n",
       "  </tbody>\n",
       "</table>\n",
       "<p>5 rows × 29 columns</p>\n",
       "</div>"
      ],
      "text/plain": [
       "   SEASON_ID     TEAM_ID TEAM_ABBREVIATION              TEAM_NAME     GAME_ID  \\\n",
       "0      22016  1610612744               GSW  Golden State Warriors  0021600223   \n",
       "1      22016  1610612744               GSW  Golden State Warriors  0021600707   \n",
       "5      22016  1610612744               GSW  Golden State Warriors  0021600314   \n",
       "10     22016  1610612744               GSW  Golden State Warriors  0021601152   \n",
       "13     22016  1610612744               GSW  Golden State Warriors  0021600299   \n",
       "\n",
       "     GAME_DATE      MATCHUP WL  MIN  FGM       ...         DREB  REB  AST  \\\n",
       "0   2016-11-23  GSW vs. LAL  W  240   53       ...           42   48   47   \n",
       "1   2017-01-28  GSW vs. LAC  W  240   57       ...           39   48   35   \n",
       "5   2016-12-05  GSW vs. IND  W  240   54       ...           38   54   45   \n",
       "10  2017-04-02  GSW vs. WAS  W  240   50       ...           34   44   34   \n",
       "13  2016-12-03  GSW vs. PHX  W  240   49       ...           32   38   37   \n",
       "\n",
       "    STL  BLK  TOV  PF  PTS  PLUS_MINUS  VIDEO_AVAILABLE  \n",
       "0     7    5   10  20  149          43                1  \n",
       "1     9    7   11  17  144          46                1  \n",
       "5    12   13   11  22  142          36                1  \n",
       "10    7   10   16  20  139          24                1  \n",
       "13    9    5   17  19  138          29                1  \n",
       "\n",
       "[5 rows x 29 columns]"
      ]
     },
     "execution_count": 15,
     "metadata": {},
     "output_type": "execute_result"
    }
   ],
   "source": [
    "gsw_games.head()"
   ]
  },
  {
   "cell_type": "code",
   "execution_count": 16,
   "metadata": {
    "collapsed": true
   },
   "outputs": [],
   "source": [
    "gsw_dates = gsw_games['GAME_DATE']"
   ]
  },
  {
   "cell_type": "code",
   "execution_count": 46,
   "metadata": {},
   "outputs": [
    {
     "data": {
      "application/vnd.plotly.v1+json": {
       "data": [
        {
         "name": "Hours Asleep",
         "type": "scatter",
         "x": [
          "2016-11-09",
          "2016-11-10",
          "2016-11-11",
          "2016-11-12",
          "2016-11-13",
          "2016-11-14",
          "2016-11-15",
          "2016-11-16",
          "2016-11-17",
          "2016-11-18",
          "2016-11-19",
          "2016-11-20",
          "2016-11-21",
          "2016-11-22",
          "2016-11-23",
          "2016-11-24",
          "2016-11-25",
          "2016-11-26",
          "2016-11-27",
          "2016-11-28",
          "2016-11-29",
          "2016-11-30",
          "2016-12-01",
          "2016-12-02",
          "2016-12-03",
          "2016-12-04",
          "2016-12-05",
          "2016-12-06",
          "2016-12-07",
          "2016-12-08",
          "2016-12-09",
          "2016-12-10",
          "2016-12-11",
          "2016-12-12",
          "2016-12-13",
          "2016-12-14",
          "2016-12-15",
          "2016-12-16",
          "2016-12-17",
          "2016-12-18",
          "2016-12-19",
          "2016-12-20",
          "2016-12-21",
          "2016-12-22",
          "2016-12-23",
          "2016-12-24",
          "2016-12-25",
          "2016-12-26",
          "2016-12-27",
          "2016-12-28",
          "2016-12-29",
          "2016-12-30",
          "2016-12-31",
          "2017-01-01",
          "2017-01-02",
          "2017-01-03",
          "2017-01-04",
          "2017-01-05",
          "2017-01-06",
          "2017-01-07",
          "2017-01-08",
          "2017-01-09",
          "2017-01-10",
          "2017-01-11",
          "2017-01-12",
          "2017-01-13",
          "2017-01-14",
          "2017-01-15",
          "2017-01-16",
          "2017-01-17",
          "2017-01-18",
          "2017-01-19",
          "2017-01-20",
          "2017-01-21",
          "2017-01-22",
          "2017-01-23",
          "2017-01-24",
          "2017-01-25",
          "2017-01-26",
          "2017-01-27",
          "2017-01-28",
          "2017-01-29",
          "2017-01-30",
          "2017-01-31",
          "2017-02-01",
          "2017-02-02",
          "2017-02-03",
          "2017-02-04",
          "2017-02-05",
          "2017-02-06",
          "2017-02-07",
          "2017-02-08",
          "2017-02-09",
          "2017-02-10",
          "2017-02-11",
          "2017-02-12",
          "2017-02-13",
          "2017-02-14",
          "2017-02-15",
          "2017-02-16",
          "2017-02-17",
          "2017-02-18",
          "2017-02-19",
          "2017-02-20",
          "2017-02-21",
          "2017-02-22",
          "2017-02-23",
          "2017-02-24",
          "2017-02-25",
          "2017-02-26",
          "2017-02-27",
          "2017-02-28",
          "2017-03-01",
          "2017-03-02",
          "2017-03-03",
          "2017-03-04",
          "2017-03-05",
          "2017-03-06",
          "2017-03-07",
          "2017-03-08",
          "2017-03-09",
          "2017-03-10",
          "2017-03-11",
          "2017-03-12",
          "2017-03-13",
          "2017-03-14",
          "2017-03-15",
          "2017-03-16",
          "2017-03-17",
          "2017-03-18",
          "2017-03-19",
          "2017-03-20",
          "2017-03-21",
          "2017-03-22",
          "2017-03-23",
          "2017-03-24",
          "2017-03-25",
          "2017-03-26",
          "2017-03-27",
          "2017-03-28",
          "2017-03-29",
          "2017-03-30",
          "2017-03-31",
          "2017-04-01",
          "2017-04-02",
          "2017-04-03",
          "2017-04-04",
          "2017-04-05",
          "2017-04-06",
          "2017-04-07",
          "2017-04-08",
          "2017-04-09",
          "2017-04-10",
          "2017-04-11",
          "2017-04-12",
          "2017-04-13",
          "2017-04-14",
          "2017-04-15",
          "2017-04-16",
          "2017-04-17",
          "2017-04-18",
          "2017-04-19",
          "2017-04-20",
          "2017-04-21",
          "2017-04-22",
          "2017-04-23",
          "2017-04-24",
          "2017-04-25",
          "2017-04-26",
          "2017-04-27",
          "2017-04-28",
          "2017-04-29",
          "2017-04-30",
          "2017-05-01",
          "2017-05-02",
          "2017-05-03",
          "2017-05-04",
          "2017-05-05",
          "2017-05-06",
          "2017-05-07",
          "2017-05-08",
          "2017-05-09",
          "2017-05-10",
          "2017-05-11",
          "2017-05-12",
          "2017-05-13",
          "2017-05-14",
          "2017-05-15",
          "2017-05-16",
          "2017-05-17",
          "2017-05-18",
          "2017-05-19",
          "2017-05-20",
          "2017-05-21",
          "2017-05-22",
          "2017-05-23",
          "2017-05-24",
          "2017-05-25",
          "2017-05-26",
          "2017-05-27",
          "2017-05-28",
          "2017-05-29",
          "2017-05-30",
          "2017-05-31",
          "2017-06-01",
          "2017-06-02",
          "2017-06-03",
          "2017-06-04",
          "2017-06-05",
          "2017-06-06",
          "2017-06-07",
          "2017-06-08",
          "2017-06-09",
          "2017-06-10",
          "2017-06-11",
          "2017-06-12",
          "2017-06-13",
          "2017-06-14",
          "2017-06-15",
          "2017-06-16",
          "2017-06-17",
          "2017-06-18",
          "2017-06-19",
          "2017-06-20",
          "2017-06-21",
          "2017-06-22",
          "2017-06-23",
          "2017-06-24",
          "2017-06-25",
          "2017-06-26",
          "2017-06-27",
          "2017-06-28",
          "2017-06-29",
          "2017-06-30",
          "2017-07-01",
          "2017-07-02",
          "2017-07-03",
          "2017-07-04",
          "2017-07-05",
          "2017-07-06",
          "2017-07-07",
          "2017-07-08",
          "2017-07-09",
          "2017-07-10",
          "2017-07-11",
          "2017-07-12",
          "2017-07-13",
          "2017-07-14",
          "2017-07-15",
          "2017-07-16",
          "2017-07-17",
          "2017-07-18",
          "2017-07-19",
          "2017-07-20",
          "2017-07-21",
          "2017-07-22",
          "2017-07-23",
          "2017-07-24",
          "2017-07-25",
          "2017-07-26",
          "2017-07-27",
          "2017-07-28",
          "2017-07-29",
          "2017-07-30",
          "2017-07-31"
         ],
         "y": [
          4.766666666666667,
          6.95,
          6.833333333333333,
          7.233333333333333,
          7.2,
          5.2,
          5.183333333333334,
          4.25,
          8.283333333333333,
          6.116666666666666,
          6.383333333333334,
          6.533333333333333,
          7.983333333333333,
          5.433333333333334,
          7.333333333333333,
          4.55,
          7.95,
          5.966666666666667,
          7.95,
          7.75,
          5.75,
          6.95,
          4.966666666666667,
          8.883333333333333,
          8.183333333333334,
          7.416666666666667,
          5.766666666666667,
          7.7,
          7.066666666666666,
          3.933333333333333,
          6.633333333333334,
          6.25,
          6.466666666666667,
          3.783333333333333,
          7.583333333333333,
          5.133333333333334,
          5.6,
          8.566666666666666,
          8.166666666666666,
          8.6,
          7.916666666666667,
          5.683333333333334,
          6.433333333333334,
          7.8,
          5.6,
          7.283333333333333,
          7.916666666666667,
          8.033333333333333,
          6.3,
          5.733333333333333,
          5.833333333333333,
          8.483333333333333,
          8,
          7.283333333333333,
          6.65,
          5.766666666666667,
          5.4,
          5.466666666666667,
          5.716666666666667,
          7,
          8.033333333333333,
          8.183333333333334,
          6.05,
          4.95,
          6.5,
          5.683333333333334,
          8.966666666666667,
          8.316666666666666,
          6.366666666666666,
          7.466666666666667,
          8.383333333333333,
          5.75,
          7.583333333333333,
          6.333333333333333,
          4.9,
          5.95,
          7.266666666666667,
          5.9,
          6.866666666666666,
          7.783333333333333,
          6.85,
          7.85,
          7.516666666666667,
          6.8,
          6.85,
          4.55,
          8.033333333333333,
          6.15,
          7.633333333333334,
          5.383333333333334,
          7.316666666666666,
          7.15,
          7.233333333333333,
          6.333333333333333,
          7.766666666666667,
          5.683333333333334,
          5.85,
          6.45,
          6.266666666666667,
          7.466666666666667,
          9.566666666666666,
          8.6,
          7.716666666666667,
          6.1,
          7.016666666666667,
          6.266666666666667,
          7.383333333333334,
          5.1,
          6.116666666666666,
          6.066666666666666,
          7.1,
          6.583333333333333,
          5.583333333333333,
          8.633333333333333,
          7,
          4.3,
          9.916666666666666,
          8.65,
          3.9,
          8.083333333333334,
          5.033333333333333,
          8.783333333333333,
          5.616666666666666,
          8.116666666666667,
          8.3,
          6.466666666666667,
          7.65,
          7.233333333333333,
          4.866666666666666,
          9.716666666666667,
          6.566666666666666,
          7.25,
          5.666666666666667,
          7.066666666666666,
          6.9,
          5.966666666666667,
          5.866666666666666,
          6.8,
          7.733333333333333,
          5.383333333333334,
          5.516666666666667,
          4.033333333333333,
          7.833333333333333,
          6.85,
          6.983333333333333,
          6.35,
          7.683333333333334,
          6.7,
          5.116666666666666,
          6.666666666666667,
          6.233333333333333,
          7.233333333333333,
          6.666666666666667,
          5.633333333333334,
          6.333333333333333,
          7.25,
          6.533333333333333,
          6.683333333333334,
          8.566666666666666,
          7.666666666666667,
          6.966666666666667,
          4.8,
          7.5,
          5.75,
          6.55,
          7.283333333333333,
          6.6,
          5.6,
          5.15,
          6.55,
          4.95,
          8.616666666666667,
          8,
          5,
          6.5,
          5.683333333333334,
          4.366666666666666,
          4.766666666666667,
          6.75,
          5.483333333333333,
          7.083333333333333,
          7.033333333333333,
          5.033333333333333,
          7.95,
          5.316666666666666,
          8.416666666666666,
          8.1,
          6.883333333333334,
          6.416666666666667,
          7.666666666666667,
          5.216666666666667,
          7.683333333333334,
          6.416666666666667,
          7.4,
          6.4,
          5.666666666666667,
          4.266666666666667,
          7.716666666666667,
          6.766666666666667,
          6.466666666666667,
          7.3,
          10.383333333333333,
          8.116666666666667,
          5.65,
          6.666666666666667,
          5.983333333333333,
          8.733333333333333,
          6.466666666666667,
          7.55,
          5.933333333333334,
          6.216666666666667,
          6.2,
          5.8,
          7.8,
          7.3,
          7.333333333333333,
          5.95,
          6.916666666666667,
          6.233333333333333,
          6.95,
          9.65,
          7.366666666666666,
          7.133333333333334,
          5.283333333333333,
          5.166666666666667,
          8.683333333333334,
          5.95,
          7.416666666666667,
          7.916666666666667,
          6.733333333333333,
          7.583333333333333,
          7.3,
          10.116666666666667,
          6.1,
          6.983333333333333,
          4.683333333333334,
          5.4,
          7.7,
          4.533333333333333,
          6.483333333333333,
          5.216666666666667,
          8.433333333333334,
          5.066666666666666,
          7,
          7.7,
          6.033333333333333,
          7.716666666666667,
          6.666666666666667,
          5.766666666666667,
          6.15,
          8.716666666666667,
          3.7333333333333334,
          8.316666666666666,
          5.583333333333333,
          7.533333333333333,
          7.966666666666667,
          7.566666666666666,
          7.85,
          6.183333333333334,
          7.333333333333333,
          8.233333333333333,
          5.583333333333333,
          7.65,
          8.316666666666666,
          6.916666666666667
         ]
        },
        {
         "marker": {
          "color": "salmon"
         },
         "mode": "markers",
         "name": "Golden State Warriors Game",
         "showlegend": true,
         "type": "scatter",
         "x": [
          "2016-11-23"
         ],
         "y": [
          3.7333333333333334
         ]
        },
        {
         "marker": {
          "color": "salmon"
         },
         "mode": "markers",
         "name": "Golden State Warriors Game",
         "showlegend": false,
         "type": "scatter",
         "x": [
          "2017-01-28"
         ],
         "y": [
          3.7333333333333334
         ]
        },
        {
         "marker": {
          "color": "salmon"
         },
         "mode": "markers",
         "name": "Golden State Warriors Game",
         "showlegend": false,
         "type": "scatter",
         "x": [
          "2016-12-05"
         ],
         "y": [
          3.7333333333333334
         ]
        },
        {
         "marker": {
          "color": "salmon"
         },
         "mode": "markers",
         "name": "Golden State Warriors Game",
         "showlegend": false,
         "type": "scatter",
         "x": [
          "2017-04-02"
         ],
         "y": [
          3.7333333333333334
         ]
        },
        {
         "marker": {
          "color": "salmon"
         },
         "mode": "markers",
         "name": "Golden State Warriors Game",
         "showlegend": false,
         "type": "scatter",
         "x": [
          "2016-12-03"
         ],
         "y": [
          3.7333333333333334
         ]
        },
        {
         "marker": {
          "color": "salmon"
         },
         "mode": "markers",
         "name": "Golden State Warriors Game",
         "showlegend": false,
         "type": "scatter",
         "x": [
          "2016-12-17"
         ],
         "y": [
          3.7333333333333334
         ]
        },
        {
         "marker": {
          "color": "salmon"
         },
         "mode": "markers",
         "name": "Golden State Warriors Game",
         "showlegend": false,
         "type": "scatter",
         "x": [
          "2017-02-02"
         ],
         "y": [
          3.7333333333333334
         ]
        },
        {
         "marker": {
          "color": "salmon"
         },
         "mode": "markers",
         "name": "Golden State Warriors Game",
         "showlegend": false,
         "type": "scatter",
         "x": [
          "2016-11-13"
         ],
         "y": [
          3.7333333333333334
         ]
        },
        {
         "marker": {
          "color": "salmon"
         },
         "mode": "markers",
         "name": "Golden State Warriors Game",
         "showlegend": false,
         "type": "scatter",
         "x": [
          "2017-02-11"
         ],
         "y": [
          3.7333333333333334
         ]
        },
        {
         "marker": {
          "color": "salmon"
         },
         "mode": "markers",
         "name": "Golden State Warriors Game",
         "showlegend": false,
         "type": "scatter",
         "x": [
          "2017-01-12"
         ],
         "y": [
          3.7333333333333334
         ]
        },
        {
         "marker": {
          "color": "salmon"
         },
         "mode": "markers",
         "name": "Golden State Warriors Game",
         "showlegend": false,
         "type": "scatter",
         "x": [
          "2017-01-02"
         ],
         "y": [
          3.7333333333333334
         ]
        },
        {
         "marker": {
          "color": "salmon"
         },
         "mode": "markers",
         "name": "Golden State Warriors Game",
         "showlegend": false,
         "type": "scatter",
         "x": [
          "2016-12-01"
         ],
         "y": [
          3.7333333333333334
         ]
        },
        {
         "marker": {
          "color": "salmon"
         },
         "mode": "markers",
         "name": "Golden State Warriors Game",
         "showlegend": false,
         "type": "scatter",
         "x": [
          "2016-11-16"
         ],
         "y": [
          3.7333333333333334
         ]
        },
        {
         "marker": {
          "color": "salmon"
         },
         "mode": "markers",
         "name": "Golden State Warriors Game",
         "showlegend": false,
         "type": "scatter",
         "x": [
          "2016-11-01"
         ],
         "y": [
          3.7333333333333334
         ]
        },
        {
         "marker": {
          "color": "salmon"
         },
         "mode": "markers",
         "name": "Golden State Warriors Game",
         "showlegend": false,
         "type": "scatter",
         "x": [
          "2017-02-01"
         ],
         "y": [
          3.7333333333333334
         ]
        },
        {
         "marker": {
          "color": "salmon"
         },
         "mode": "markers",
         "name": "Golden State Warriors Game",
         "showlegend": false,
         "type": "scatter",
         "x": [
          "2017-01-16"
         ],
         "y": [
          3.7333333333333334
         ]
        },
        {
         "marker": {
          "color": "salmon"
         },
         "mode": "markers",
         "name": "Golden State Warriors Game",
         "showlegend": false,
         "type": "scatter",
         "x": [
          "2017-01-20"
         ],
         "y": [
          3.7333333333333334
         ]
        },
        {
         "marker": {
          "color": "salmon"
         },
         "mode": "markers",
         "name": "Golden State Warriors Game",
         "showlegend": false,
         "type": "scatter",
         "x": [
          "2017-01-04"
         ],
         "y": [
          3.7333333333333334
         ]
        },
        {
         "marker": {
          "color": "salmon"
         },
         "mode": "markers",
         "name": "Golden State Warriors Game",
         "showlegend": false,
         "type": "scatter",
         "x": [
          "2016-11-10"
         ],
         "y": [
          3.7333333333333334
         ]
        },
        {
         "marker": {
          "color": "salmon"
         },
         "mode": "markers",
         "name": "Golden State Warriors Game",
         "showlegend": false,
         "type": "scatter",
         "x": [
          "2016-11-19"
         ],
         "y": [
          3.7333333333333334
         ]
        },
        {
         "marker": {
          "color": "salmon"
         },
         "mode": "markers",
         "name": "Golden State Warriors Game",
         "showlegend": false,
         "type": "scatter",
         "x": [
          "2017-04-08"
         ],
         "y": [
          3.7333333333333334
         ]
        },
        {
         "marker": {
          "color": "salmon"
         },
         "mode": "markers",
         "name": "Golden State Warriors Game",
         "showlegend": false,
         "type": "scatter",
         "x": [
          "2017-02-23"
         ],
         "y": [
          3.7333333333333334
         ]
        },
        {
         "marker": {
          "color": "salmon"
         },
         "mode": "markers",
         "name": "Golden State Warriors Game",
         "showlegend": false,
         "type": "scatter",
         "x": [
          "2017-02-08"
         ],
         "y": [
          3.7333333333333334
         ]
        },
        {
         "marker": {
          "color": "salmon"
         },
         "mode": "markers",
         "name": "Golden State Warriors Game",
         "showlegend": false,
         "type": "scatter",
         "x": [
          "2017-03-16"
         ],
         "y": [
          3.7333333333333334
         ]
        },
        {
         "marker": {
          "color": "salmon"
         },
         "mode": "markers",
         "name": "Golden State Warriors Game",
         "showlegend": false,
         "type": "scatter",
         "x": [
          "2017-02-10"
         ],
         "y": [
          3.7333333333333334
         ]
        },
        {
         "marker": {
          "color": "salmon"
         },
         "mode": "markers",
         "name": "Golden State Warriors Game",
         "showlegend": false,
         "type": "scatter",
         "x": [
          "2016-11-03"
         ],
         "y": [
          3.7333333333333334
         ]
        },
        {
         "marker": {
          "color": "salmon"
         },
         "mode": "markers",
         "name": "Golden State Warriors Game",
         "showlegend": false,
         "type": "scatter",
         "x": [
          "2016-10-28"
         ],
         "y": [
          3.7333333333333334
         ]
        },
        {
         "marker": {
          "color": "salmon"
         },
         "mode": "markers",
         "name": "Golden State Warriors Game",
         "showlegend": false,
         "type": "scatter",
         "x": [
          "2017-04-04"
         ],
         "y": [
          3.7333333333333334
         ]
        },
        {
         "marker": {
          "color": "salmon"
         },
         "mode": "markers",
         "name": "Golden State Warriors Game",
         "showlegend": false,
         "type": "scatter",
         "x": [
          "2017-01-18"
         ],
         "y": [
          3.7333333333333334
         ]
        },
        {
         "marker": {
          "color": "salmon"
         },
         "mode": "markers",
         "name": "Golden State Warriors Game",
         "showlegend": false,
         "type": "scatter",
         "x": [
          "2016-12-28"
         ],
         "y": [
          3.7333333333333334
         ]
        },
        {
         "marker": {
          "color": "salmon"
         },
         "mode": "markers",
         "name": "Golden State Warriors Game",
         "showlegend": false,
         "type": "scatter",
         "x": [
          "2017-04-05"
         ],
         "y": [
          3.7333333333333334
         ]
        },
        {
         "marker": {
          "color": "salmon"
         },
         "mode": "markers",
         "name": "Golden State Warriors Game",
         "showlegend": false,
         "type": "scatter",
         "x": [
          "2016-11-21"
         ],
         "y": [
          3.7333333333333334
         ]
        },
        {
         "marker": {
          "color": "salmon"
         },
         "mode": "markers",
         "name": "Golden State Warriors Game",
         "showlegend": false,
         "type": "scatter",
         "x": [
          "2017-03-06"
         ],
         "y": [
          3.7333333333333334
         ]
        },
        {
         "marker": {
          "color": "salmon"
         },
         "mode": "markers",
         "name": "Golden State Warriors Game",
         "showlegend": false,
         "type": "scatter",
         "x": [
          "2017-02-27"
         ],
         "y": [
          3.7333333333333334
         ]
        },
        {
         "marker": {
          "color": "salmon"
         },
         "mode": "markers",
         "name": "Golden State Warriors Game",
         "showlegend": false,
         "type": "scatter",
         "x": [
          "2017-01-06"
         ],
         "y": [
          3.7333333333333334
         ]
        },
        {
         "marker": {
          "color": "salmon"
         },
         "mode": "markers",
         "name": "Golden State Warriors Game",
         "showlegend": false,
         "type": "scatter",
         "x": [
          "2016-12-23"
         ],
         "y": [
          3.7333333333333334
         ]
        },
        {
         "marker": {
          "color": "salmon"
         },
         "mode": "markers",
         "name": "Golden State Warriors Game",
         "showlegend": false,
         "type": "scatter",
         "x": [
          "2017-01-22"
         ],
         "y": [
          3.7333333333333334
         ]
        },
        {
         "marker": {
          "color": "salmon"
         },
         "mode": "markers",
         "name": "Golden State Warriors Game",
         "showlegend": false,
         "type": "scatter",
         "x": [
          "2017-03-18"
         ],
         "y": [
          3.7333333333333334
         ]
        },
        {
         "marker": {
          "color": "salmon"
         },
         "mode": "markers",
         "name": "Golden State Warriors Game",
         "showlegend": false,
         "type": "scatter",
         "x": [
          "2017-01-08"
         ],
         "y": [
          3.7333333333333334
         ]
        },
        {
         "marker": {
          "color": "salmon"
         },
         "mode": "markers",
         "name": "Golden State Warriors Game",
         "showlegend": false,
         "type": "scatter",
         "x": [
          "2016-12-22"
         ],
         "y": [
          3.7333333333333334
         ]
        },
        {
         "marker": {
          "color": "salmon"
         },
         "mode": "markers",
         "name": "Golden State Warriors Game",
         "showlegend": false,
         "type": "scatter",
         "x": [
          "2016-12-11"
         ],
         "y": [
          3.7333333333333334
         ]
        },
        {
         "marker": {
          "color": "salmon"
         },
         "mode": "markers",
         "name": "Golden State Warriors Game",
         "showlegend": false,
         "type": "scatter",
         "x": [
          "2016-11-09"
         ],
         "y": [
          3.7333333333333334
         ]
        },
        {
         "marker": {
          "color": "salmon"
         },
         "mode": "markers",
         "name": "Golden State Warriors Game",
         "showlegend": false,
         "type": "scatter",
         "x": [
          "2016-11-07"
         ],
         "y": [
          3.7333333333333334
         ]
        },
        {
         "marker": {
          "color": "salmon"
         },
         "mode": "markers",
         "name": "Golden State Warriors Game",
         "showlegend": false,
         "type": "scatter",
         "x": [
          "2016-12-07"
         ],
         "y": [
          3.7333333333333334
         ]
        },
        {
         "marker": {
          "color": "salmon"
         },
         "mode": "markers",
         "name": "Golden State Warriors Game",
         "showlegend": false,
         "type": "scatter",
         "x": [
          "2016-11-26"
         ],
         "y": [
          3.7333333333333334
         ]
        },
        {
         "marker": {
          "color": "salmon"
         },
         "mode": "markers",
         "name": "Golden State Warriors Game",
         "showlegend": false,
         "type": "scatter",
         "x": [
          "2017-03-24"
         ],
         "y": [
          3.7333333333333334
         ]
        },
        {
         "marker": {
          "color": "salmon"
         },
         "mode": "markers",
         "name": "Golden State Warriors Game",
         "showlegend": false,
         "type": "scatter",
         "x": [
          "2017-03-28"
         ],
         "y": [
          3.7333333333333334
         ]
        },
        {
         "marker": {
          "color": "salmon"
         },
         "mode": "markers",
         "name": "Golden State Warriors Game",
         "showlegend": false,
         "type": "scatter",
         "x": [
          "2017-01-29"
         ],
         "y": [
          3.7333333333333334
         ]
        },
        {
         "marker": {
          "color": "salmon"
         },
         "mode": "markers",
         "name": "Golden State Warriors Game",
         "showlegend": false,
         "type": "scatter",
         "x": [
          "2017-01-25"
         ],
         "y": [
          3.7333333333333334
         ]
        },
        {
         "marker": {
          "color": "salmon"
         },
         "mode": "markers",
         "name": "Golden State Warriors Game",
         "showlegend": false,
         "type": "scatter",
         "x": [
          "2016-12-13"
         ],
         "y": [
          3.7333333333333334
         ]
        },
        {
         "marker": {
          "color": "salmon"
         },
         "mode": "markers",
         "name": "Golden State Warriors Game",
         "showlegend": false,
         "type": "scatter",
         "x": [
          "2017-03-21"
         ],
         "y": [
          3.7333333333333334
         ]
        },
        {
         "marker": {
          "color": "salmon"
         },
         "mode": "markers",
         "name": "Golden State Warriors Game",
         "showlegend": false,
         "type": "scatter",
         "x": [
          "2017-03-05"
         ],
         "y": [
          3.7333333333333334
         ]
        },
        {
         "marker": {
          "color": "salmon"
         },
         "mode": "markers",
         "name": "Golden State Warriors Game",
         "showlegend": false,
         "type": "scatter",
         "x": [
          "2017-02-25"
         ],
         "y": [
          3.7333333333333334
         ]
        },
        {
         "marker": {
          "color": "salmon"
         },
         "mode": "markers",
         "name": "Golden State Warriors Game",
         "showlegend": false,
         "type": "scatter",
         "x": [
          "2017-03-20"
         ],
         "y": [
          3.7333333333333334
         ]
        },
        {
         "marker": {
          "color": "salmon"
         },
         "mode": "markers",
         "name": "Golden State Warriors Game",
         "showlegend": false,
         "type": "scatter",
         "x": [
          "2017-03-29"
         ],
         "y": [
          3.7333333333333334
         ]
        },
        {
         "marker": {
          "color": "salmon"
         },
         "mode": "markers",
         "name": "Golden State Warriors Game",
         "showlegend": false,
         "type": "scatter",
         "x": [
          "2017-02-13"
         ],
         "y": [
          3.7333333333333334
         ]
        },
        {
         "marker": {
          "color": "salmon"
         },
         "mode": "markers",
         "name": "Golden State Warriors Game",
         "showlegend": false,
         "type": "scatter",
         "x": [
          "2017-04-12"
         ],
         "y": [
          3.7333333333333334
         ]
        },
        {
         "marker": {
          "color": "salmon"
         },
         "mode": "markers",
         "name": "Golden State Warriors Game",
         "showlegend": false,
         "type": "scatter",
         "x": [
          "2017-02-15"
         ],
         "y": [
          3.7333333333333334
         ]
        },
        {
         "marker": {
          "color": "salmon"
         },
         "mode": "markers",
         "name": "Golden State Warriors Game",
         "showlegend": false,
         "type": "scatter",
         "x": [
          "2016-11-25"
         ],
         "y": [
          3.7333333333333334
         ]
        },
        {
         "marker": {
          "color": "salmon"
         },
         "mode": "markers",
         "name": "Golden State Warriors Game",
         "showlegend": false,
         "type": "scatter",
         "x": [
          "2017-02-28"
         ],
         "y": [
          3.7333333333333334
         ]
        },
        {
         "marker": {
          "color": "salmon"
         },
         "mode": "markers",
         "name": "Golden State Warriors Game",
         "showlegend": false,
         "type": "scatter",
         "x": [
          "2016-12-30"
         ],
         "y": [
          3.7333333333333334
         ]
        },
        {
         "marker": {
          "color": "salmon"
         },
         "mode": "markers",
         "name": "Golden State Warriors Game",
         "showlegend": false,
         "type": "scatter",
         "x": [
          "2016-12-25"
         ],
         "y": [
          3.7333333333333334
         ]
        },
        {
         "marker": {
          "color": "salmon"
         },
         "mode": "markers",
         "name": "Golden State Warriors Game",
         "showlegend": false,
         "type": "scatter",
         "x": [
          "2017-03-31"
         ],
         "y": [
          3.7333333333333334
         ]
        },
        {
         "marker": {
          "color": "salmon"
         },
         "mode": "markers",
         "name": "Golden State Warriors Game",
         "showlegend": false,
         "type": "scatter",
         "x": [
          "2017-01-10"
         ],
         "y": [
          3.7333333333333334
         ]
        },
        {
         "marker": {
          "color": "salmon"
         },
         "mode": "markers",
         "name": "Golden State Warriors Game",
         "showlegend": false,
         "type": "scatter",
         "x": [
          "2017-03-26"
         ],
         "y": [
          3.7333333333333334
         ]
        },
        {
         "marker": {
          "color": "salmon"
         },
         "mode": "markers",
         "name": "Golden State Warriors Game",
         "showlegend": false,
         "type": "scatter",
         "x": [
          "2017-03-14"
         ],
         "y": [
          3.7333333333333334
         ]
        },
        {
         "marker": {
          "color": "salmon"
         },
         "mode": "markers",
         "name": "Golden State Warriors Game",
         "showlegend": false,
         "type": "scatter",
         "x": [
          "2017-02-04"
         ],
         "y": [
          3.7333333333333334
         ]
        },
        {
         "marker": {
          "color": "salmon"
         },
         "mode": "markers",
         "name": "Golden State Warriors Game",
         "showlegend": false,
         "type": "scatter",
         "x": [
          "2016-12-08"
         ],
         "y": [
          3.7333333333333334
         ]
        },
        {
         "marker": {
          "color": "salmon"
         },
         "mode": "markers",
         "name": "Golden State Warriors Game",
         "showlegend": false,
         "type": "scatter",
         "x": [
          "2016-10-30"
         ],
         "y": [
          3.7333333333333334
         ]
        },
        {
         "marker": {
          "color": "salmon"
         },
         "mode": "markers",
         "name": "Golden State Warriors Game",
         "showlegend": false,
         "type": "scatter",
         "x": [
          "2016-11-28"
         ],
         "y": [
          3.7333333333333334
         ]
        },
        {
         "marker": {
          "color": "salmon"
         },
         "mode": "markers",
         "name": "Golden State Warriors Game",
         "showlegend": false,
         "type": "scatter",
         "x": [
          "2016-12-20"
         ],
         "y": [
          3.7333333333333334
         ]
        },
        {
         "marker": {
          "color": "salmon"
         },
         "mode": "markers",
         "name": "Golden State Warriors Game",
         "showlegend": false,
         "type": "scatter",
         "x": [
          "2016-11-18"
         ],
         "y": [
          3.7333333333333334
         ]
        },
        {
         "marker": {
          "color": "salmon"
         },
         "mode": "markers",
         "name": "Golden State Warriors Game",
         "showlegend": false,
         "type": "scatter",
         "x": [
          "2016-12-15"
         ],
         "y": [
          3.7333333333333334
         ]
        },
        {
         "marker": {
          "color": "salmon"
         },
         "mode": "markers",
         "name": "Golden State Warriors Game",
         "showlegend": false,
         "type": "scatter",
         "x": [
          "2017-03-10"
         ],
         "y": [
          3.7333333333333334
         ]
        },
        {
         "marker": {
          "color": "salmon"
         },
         "mode": "markers",
         "name": "Golden State Warriors Game",
         "showlegend": false,
         "type": "scatter",
         "x": [
          "2017-01-23"
         ],
         "y": [
          3.7333333333333334
         ]
        },
        {
         "marker": {
          "color": "salmon"
         },
         "mode": "markers",
         "name": "Golden State Warriors Game",
         "showlegend": false,
         "type": "scatter",
         "x": [
          "2016-10-25"
         ],
         "y": [
          3.7333333333333334
         ]
        },
        {
         "marker": {
          "color": "salmon"
         },
         "mode": "markers",
         "name": "Golden State Warriors Game",
         "showlegend": false,
         "type": "scatter",
         "x": [
          "2017-04-10"
         ],
         "y": [
          3.7333333333333334
         ]
        },
        {
         "marker": {
          "color": "salmon"
         },
         "mode": "markers",
         "name": "Golden State Warriors Game",
         "showlegend": false,
         "type": "scatter",
         "x": [
          "2016-11-04"
         ],
         "y": [
          3.7333333333333334
         ]
        },
        {
         "marker": {
          "color": "salmon"
         },
         "mode": "markers",
         "name": "Golden State Warriors Game",
         "showlegend": false,
         "type": "scatter",
         "x": [
          "2016-12-10"
         ],
         "y": [
          3.7333333333333334
         ]
        },
        {
         "marker": {
          "color": "salmon"
         },
         "mode": "markers",
         "name": "Golden State Warriors Game",
         "showlegend": false,
         "type": "scatter",
         "x": [
          "2017-03-02"
         ],
         "y": [
          3.7333333333333334
         ]
        },
        {
         "marker": {
          "color": "salmon"
         },
         "mode": "markers",
         "name": "Golden State Warriors Game",
         "showlegend": false,
         "type": "scatter",
         "x": [
          "2017-03-08"
         ],
         "y": [
          3.7333333333333334
         ]
        },
        {
         "marker": {
          "color": "salmon"
         },
         "mode": "markers",
         "name": "Golden State Warriors Game",
         "showlegend": false,
         "type": "scatter",
         "x": [
          "2017-03-11"
         ],
         "y": [
          3.7333333333333334
         ]
        }
       ],
       "layout": {
        "title": "Daily Sleep Total, 6pm to 6pm",
        "yaxis": {
         "title": "Hours Asleep"
        }
       }
      },
      "text/html": [
       "<div id=\"29a66697-ab1f-4942-863b-545c9e16170f\" style=\"height: 525px; width: 100%;\" class=\"plotly-graph-div\"></div><script type=\"text/javascript\">require([\"plotly\"], function(Plotly) { window.PLOTLYENV=window.PLOTLYENV || {};window.PLOTLYENV.BASE_URL=\"https://plot.ly\";Plotly.newPlot(\"29a66697-ab1f-4942-863b-545c9e16170f\", [{\"type\": \"scatter\", \"x\": [\"2016-11-09\", \"2016-11-10\", \"2016-11-11\", \"2016-11-12\", \"2016-11-13\", \"2016-11-14\", \"2016-11-15\", \"2016-11-16\", \"2016-11-17\", \"2016-11-18\", \"2016-11-19\", \"2016-11-20\", \"2016-11-21\", \"2016-11-22\", \"2016-11-23\", \"2016-11-24\", \"2016-11-25\", \"2016-11-26\", \"2016-11-27\", \"2016-11-28\", \"2016-11-29\", \"2016-11-30\", \"2016-12-01\", \"2016-12-02\", \"2016-12-03\", \"2016-12-04\", \"2016-12-05\", \"2016-12-06\", \"2016-12-07\", \"2016-12-08\", \"2016-12-09\", \"2016-12-10\", \"2016-12-11\", \"2016-12-12\", \"2016-12-13\", \"2016-12-14\", \"2016-12-15\", \"2016-12-16\", \"2016-12-17\", \"2016-12-18\", \"2016-12-19\", \"2016-12-20\", \"2016-12-21\", \"2016-12-22\", \"2016-12-23\", \"2016-12-24\", \"2016-12-25\", \"2016-12-26\", \"2016-12-27\", \"2016-12-28\", \"2016-12-29\", \"2016-12-30\", \"2016-12-31\", \"2017-01-01\", \"2017-01-02\", \"2017-01-03\", \"2017-01-04\", \"2017-01-05\", \"2017-01-06\", \"2017-01-07\", \"2017-01-08\", \"2017-01-09\", \"2017-01-10\", \"2017-01-11\", \"2017-01-12\", \"2017-01-13\", \"2017-01-14\", \"2017-01-15\", \"2017-01-16\", \"2017-01-17\", \"2017-01-18\", \"2017-01-19\", \"2017-01-20\", \"2017-01-21\", \"2017-01-22\", \"2017-01-23\", \"2017-01-24\", \"2017-01-25\", \"2017-01-26\", \"2017-01-27\", \"2017-01-28\", \"2017-01-29\", \"2017-01-30\", \"2017-01-31\", \"2017-02-01\", \"2017-02-02\", \"2017-02-03\", \"2017-02-04\", \"2017-02-05\", \"2017-02-06\", \"2017-02-07\", \"2017-02-08\", \"2017-02-09\", \"2017-02-10\", \"2017-02-11\", \"2017-02-12\", \"2017-02-13\", \"2017-02-14\", \"2017-02-15\", \"2017-02-16\", \"2017-02-17\", \"2017-02-18\", \"2017-02-19\", \"2017-02-20\", \"2017-02-21\", \"2017-02-22\", \"2017-02-23\", \"2017-02-24\", \"2017-02-25\", \"2017-02-26\", \"2017-02-27\", \"2017-02-28\", \"2017-03-01\", \"2017-03-02\", \"2017-03-03\", \"2017-03-04\", \"2017-03-05\", \"2017-03-06\", \"2017-03-07\", \"2017-03-08\", \"2017-03-09\", \"2017-03-10\", \"2017-03-11\", \"2017-03-12\", \"2017-03-13\", \"2017-03-14\", \"2017-03-15\", \"2017-03-16\", \"2017-03-17\", \"2017-03-18\", \"2017-03-19\", \"2017-03-20\", \"2017-03-21\", \"2017-03-22\", \"2017-03-23\", \"2017-03-24\", \"2017-03-25\", \"2017-03-26\", \"2017-03-27\", \"2017-03-28\", \"2017-03-29\", \"2017-03-30\", \"2017-03-31\", \"2017-04-01\", \"2017-04-02\", \"2017-04-03\", \"2017-04-04\", \"2017-04-05\", \"2017-04-06\", \"2017-04-07\", \"2017-04-08\", \"2017-04-09\", \"2017-04-10\", \"2017-04-11\", \"2017-04-12\", \"2017-04-13\", \"2017-04-14\", \"2017-04-15\", \"2017-04-16\", \"2017-04-17\", \"2017-04-18\", \"2017-04-19\", \"2017-04-20\", \"2017-04-21\", \"2017-04-22\", \"2017-04-23\", \"2017-04-24\", \"2017-04-25\", \"2017-04-26\", \"2017-04-27\", \"2017-04-28\", \"2017-04-29\", \"2017-04-30\", \"2017-05-01\", \"2017-05-02\", \"2017-05-03\", \"2017-05-04\", \"2017-05-05\", \"2017-05-06\", \"2017-05-07\", \"2017-05-08\", \"2017-05-09\", \"2017-05-10\", \"2017-05-11\", \"2017-05-12\", \"2017-05-13\", \"2017-05-14\", \"2017-05-15\", \"2017-05-16\", \"2017-05-17\", \"2017-05-18\", \"2017-05-19\", \"2017-05-20\", \"2017-05-21\", \"2017-05-22\", \"2017-05-23\", \"2017-05-24\", \"2017-05-25\", \"2017-05-26\", \"2017-05-27\", \"2017-05-28\", \"2017-05-29\", \"2017-05-30\", \"2017-05-31\", \"2017-06-01\", \"2017-06-02\", \"2017-06-03\", \"2017-06-04\", \"2017-06-05\", \"2017-06-06\", \"2017-06-07\", \"2017-06-08\", \"2017-06-09\", \"2017-06-10\", \"2017-06-11\", \"2017-06-12\", \"2017-06-13\", \"2017-06-14\", \"2017-06-15\", \"2017-06-16\", \"2017-06-17\", \"2017-06-18\", \"2017-06-19\", \"2017-06-20\", \"2017-06-21\", \"2017-06-22\", \"2017-06-23\", \"2017-06-24\", \"2017-06-25\", \"2017-06-26\", \"2017-06-27\", \"2017-06-28\", \"2017-06-29\", \"2017-06-30\", \"2017-07-01\", \"2017-07-02\", \"2017-07-03\", \"2017-07-04\", \"2017-07-05\", \"2017-07-06\", \"2017-07-07\", \"2017-07-08\", \"2017-07-09\", \"2017-07-10\", \"2017-07-11\", \"2017-07-12\", \"2017-07-13\", \"2017-07-14\", \"2017-07-15\", \"2017-07-16\", \"2017-07-17\", \"2017-07-18\", \"2017-07-19\", \"2017-07-20\", \"2017-07-21\", \"2017-07-22\", \"2017-07-23\", \"2017-07-24\", \"2017-07-25\", \"2017-07-26\", \"2017-07-27\", \"2017-07-28\", \"2017-07-29\", \"2017-07-30\", \"2017-07-31\"], \"y\": [4.766666666666667, 6.95, 6.833333333333333, 7.233333333333333, 7.2, 5.2, 5.183333333333334, 4.25, 8.283333333333333, 6.116666666666666, 6.383333333333334, 6.533333333333333, 7.983333333333333, 5.433333333333334, 7.333333333333333, 4.55, 7.95, 5.966666666666667, 7.95, 7.75, 5.75, 6.95, 4.966666666666667, 8.883333333333333, 8.183333333333334, 7.416666666666667, 5.766666666666667, 7.7, 7.066666666666666, 3.933333333333333, 6.633333333333334, 6.25, 6.466666666666667, 3.783333333333333, 7.583333333333333, 5.133333333333334, 5.6, 8.566666666666666, 8.166666666666666, 8.6, 7.916666666666667, 5.683333333333334, 6.433333333333334, 7.8, 5.6, 7.283333333333333, 7.916666666666667, 8.033333333333333, 6.3, 5.733333333333333, 5.833333333333333, 8.483333333333333, 8.0, 7.283333333333333, 6.65, 5.766666666666667, 5.4, 5.466666666666667, 5.716666666666667, 7.0, 8.033333333333333, 8.183333333333334, 6.05, 4.95, 6.5, 5.683333333333334, 8.966666666666667, 8.316666666666666, 6.366666666666666, 7.466666666666667, 8.383333333333333, 5.75, 7.583333333333333, 6.333333333333333, 4.9, 5.95, 7.266666666666667, 5.9, 6.866666666666666, 7.783333333333333, 6.85, 7.85, 7.516666666666667, 6.8, 6.85, 4.55, 8.033333333333333, 6.15, 7.633333333333334, 5.383333333333334, 7.316666666666666, 7.15, 7.233333333333333, 6.333333333333333, 7.766666666666667, 5.683333333333334, 5.85, 6.45, 6.266666666666667, 7.466666666666667, 9.566666666666666, 8.6, 7.716666666666667, 6.1, 7.016666666666667, 6.266666666666667, 7.383333333333334, 5.1, 6.116666666666666, 6.066666666666666, 7.1, 6.583333333333333, 5.583333333333333, 8.633333333333333, 7.0, 4.3, 9.916666666666666, 8.65, 3.9, 8.083333333333334, 5.033333333333333, 8.783333333333333, 5.616666666666666, 8.116666666666667, 8.3, 6.466666666666667, 7.65, 7.233333333333333, 4.866666666666666, 9.716666666666667, 6.566666666666666, 7.25, 5.666666666666667, 7.066666666666666, 6.9, 5.966666666666667, 5.866666666666666, 6.8, 7.733333333333333, 5.383333333333334, 5.516666666666667, 4.033333333333333, 7.833333333333333, 6.85, 6.983333333333333, 6.35, 7.683333333333334, 6.7, 5.116666666666666, 6.666666666666667, 6.233333333333333, 7.233333333333333, 6.666666666666667, 5.633333333333334, 6.333333333333333, 7.25, 6.533333333333333, 6.683333333333334, 8.566666666666666, 7.666666666666667, 6.966666666666667, 4.8, 7.5, 5.75, 6.55, 7.283333333333333, 6.6, 5.6, 5.15, 6.55, 4.95, 8.616666666666667, 8.0, 5.0, 6.5, 5.683333333333334, 4.366666666666666, 4.766666666666667, 6.75, 5.483333333333333, 7.083333333333333, 7.033333333333333, 5.033333333333333, 7.95, 5.316666666666666, 8.416666666666666, 8.1, 6.883333333333334, 6.416666666666667, 7.666666666666667, 5.216666666666667, 7.683333333333334, 6.416666666666667, 7.4, 6.4, 5.666666666666667, 4.266666666666667, 7.716666666666667, 6.766666666666667, 6.466666666666667, 7.3, 10.383333333333333, 8.116666666666667, 5.65, 6.666666666666667, 5.983333333333333, 8.733333333333333, 6.466666666666667, 7.55, 5.933333333333334, 6.216666666666667, 6.2, 5.8, 7.8, 7.3, 7.333333333333333, 5.95, 6.916666666666667, 6.233333333333333, 6.95, 9.65, 7.366666666666666, 7.133333333333334, 5.283333333333333, 5.166666666666667, 8.683333333333334, 5.95, 7.416666666666667, 7.916666666666667, 6.733333333333333, 7.583333333333333, 7.3, 10.116666666666667, 6.1, 6.983333333333333, 4.683333333333334, 5.4, 7.7, 4.533333333333333, 6.483333333333333, 5.216666666666667, 8.433333333333334, 5.066666666666666, 7.0, 7.7, 6.033333333333333, 7.716666666666667, 6.666666666666667, 5.766666666666667, 6.15, 8.716666666666667, 3.7333333333333334, 8.316666666666666, 5.583333333333333, 7.533333333333333, 7.966666666666667, 7.566666666666666, 7.85, 6.183333333333334, 7.333333333333333, 8.233333333333333, 5.583333333333333, 7.65, 8.316666666666666, 6.916666666666667], \"name\": \"Hours Asleep\"}, {\"type\": \"scatter\", \"x\": [\"2016-11-23\"], \"y\": [3.7333333333333334], \"mode\": \"markers\", \"name\": \"Golden State Warriors Game\", \"marker\": {\"color\": \"salmon\"}, \"showlegend\": true}, {\"type\": \"scatter\", \"x\": [\"2017-01-28\"], \"y\": [3.7333333333333334], \"mode\": \"markers\", \"name\": \"Golden State Warriors Game\", \"marker\": {\"color\": \"salmon\"}, \"showlegend\": false}, {\"type\": \"scatter\", \"x\": [\"2016-12-05\"], \"y\": [3.7333333333333334], \"mode\": \"markers\", \"name\": \"Golden State Warriors Game\", \"marker\": {\"color\": \"salmon\"}, \"showlegend\": false}, {\"type\": \"scatter\", \"x\": [\"2017-04-02\"], \"y\": [3.7333333333333334], \"mode\": \"markers\", \"name\": \"Golden State Warriors Game\", \"marker\": {\"color\": \"salmon\"}, \"showlegend\": false}, {\"type\": \"scatter\", \"x\": [\"2016-12-03\"], \"y\": [3.7333333333333334], \"mode\": \"markers\", \"name\": \"Golden State Warriors Game\", \"marker\": {\"color\": \"salmon\"}, \"showlegend\": false}, {\"type\": \"scatter\", \"x\": [\"2016-12-17\"], \"y\": [3.7333333333333334], \"mode\": \"markers\", \"name\": \"Golden State Warriors Game\", \"marker\": {\"color\": \"salmon\"}, \"showlegend\": false}, {\"type\": \"scatter\", \"x\": [\"2017-02-02\"], \"y\": [3.7333333333333334], \"mode\": \"markers\", \"name\": \"Golden State Warriors Game\", \"marker\": {\"color\": \"salmon\"}, \"showlegend\": false}, {\"type\": \"scatter\", \"x\": [\"2016-11-13\"], \"y\": [3.7333333333333334], \"mode\": \"markers\", \"name\": \"Golden State Warriors Game\", \"marker\": {\"color\": \"salmon\"}, \"showlegend\": false}, {\"type\": \"scatter\", \"x\": [\"2017-02-11\"], \"y\": [3.7333333333333334], \"mode\": \"markers\", \"name\": \"Golden State Warriors Game\", \"marker\": {\"color\": \"salmon\"}, \"showlegend\": false}, {\"type\": \"scatter\", \"x\": [\"2017-01-12\"], \"y\": [3.7333333333333334], \"mode\": \"markers\", \"name\": \"Golden State Warriors Game\", \"marker\": {\"color\": \"salmon\"}, \"showlegend\": false}, {\"type\": \"scatter\", \"x\": [\"2017-01-02\"], \"y\": [3.7333333333333334], \"mode\": \"markers\", \"name\": \"Golden State Warriors Game\", \"marker\": {\"color\": \"salmon\"}, \"showlegend\": false}, {\"type\": \"scatter\", \"x\": [\"2016-12-01\"], \"y\": [3.7333333333333334], \"mode\": \"markers\", \"name\": \"Golden State Warriors Game\", \"marker\": {\"color\": \"salmon\"}, \"showlegend\": false}, {\"type\": \"scatter\", \"x\": [\"2016-11-16\"], \"y\": [3.7333333333333334], \"mode\": \"markers\", \"name\": \"Golden State Warriors Game\", \"marker\": {\"color\": \"salmon\"}, \"showlegend\": false}, {\"type\": \"scatter\", \"x\": [\"2016-11-01\"], \"y\": [3.7333333333333334], \"mode\": \"markers\", \"name\": \"Golden State Warriors Game\", \"marker\": {\"color\": \"salmon\"}, \"showlegend\": false}, {\"type\": \"scatter\", \"x\": [\"2017-02-01\"], \"y\": [3.7333333333333334], \"mode\": \"markers\", \"name\": \"Golden State Warriors Game\", \"marker\": {\"color\": \"salmon\"}, \"showlegend\": false}, {\"type\": \"scatter\", \"x\": [\"2017-01-16\"], \"y\": [3.7333333333333334], \"mode\": \"markers\", \"name\": \"Golden State Warriors Game\", \"marker\": {\"color\": \"salmon\"}, \"showlegend\": false}, {\"type\": \"scatter\", \"x\": [\"2017-01-20\"], \"y\": [3.7333333333333334], \"mode\": \"markers\", \"name\": \"Golden State Warriors Game\", \"marker\": {\"color\": \"salmon\"}, \"showlegend\": false}, {\"type\": \"scatter\", \"x\": [\"2017-01-04\"], \"y\": [3.7333333333333334], \"mode\": \"markers\", \"name\": \"Golden State Warriors Game\", \"marker\": {\"color\": \"salmon\"}, \"showlegend\": false}, {\"type\": \"scatter\", \"x\": [\"2016-11-10\"], \"y\": [3.7333333333333334], \"mode\": \"markers\", \"name\": \"Golden State Warriors Game\", \"marker\": {\"color\": \"salmon\"}, \"showlegend\": false}, {\"type\": \"scatter\", \"x\": [\"2016-11-19\"], \"y\": [3.7333333333333334], \"mode\": \"markers\", \"name\": \"Golden State Warriors Game\", \"marker\": {\"color\": \"salmon\"}, \"showlegend\": false}, {\"type\": \"scatter\", \"x\": [\"2017-04-08\"], \"y\": [3.7333333333333334], \"mode\": \"markers\", \"name\": \"Golden State Warriors Game\", \"marker\": {\"color\": \"salmon\"}, \"showlegend\": false}, {\"type\": \"scatter\", \"x\": [\"2017-02-23\"], \"y\": [3.7333333333333334], \"mode\": \"markers\", \"name\": \"Golden State Warriors Game\", \"marker\": {\"color\": \"salmon\"}, \"showlegend\": false}, {\"type\": \"scatter\", \"x\": [\"2017-02-08\"], \"y\": [3.7333333333333334], \"mode\": \"markers\", \"name\": \"Golden State Warriors Game\", \"marker\": {\"color\": \"salmon\"}, \"showlegend\": false}, {\"type\": \"scatter\", \"x\": [\"2017-03-16\"], \"y\": [3.7333333333333334], \"mode\": \"markers\", \"name\": \"Golden State Warriors Game\", \"marker\": {\"color\": \"salmon\"}, \"showlegend\": false}, {\"type\": \"scatter\", \"x\": [\"2017-02-10\"], \"y\": [3.7333333333333334], \"mode\": \"markers\", \"name\": \"Golden State Warriors Game\", \"marker\": {\"color\": \"salmon\"}, \"showlegend\": false}, {\"type\": \"scatter\", \"x\": [\"2016-11-03\"], \"y\": [3.7333333333333334], \"mode\": \"markers\", \"name\": \"Golden State Warriors Game\", \"marker\": {\"color\": \"salmon\"}, \"showlegend\": false}, {\"type\": \"scatter\", \"x\": [\"2016-10-28\"], \"y\": [3.7333333333333334], \"mode\": \"markers\", \"name\": \"Golden State Warriors Game\", \"marker\": {\"color\": \"salmon\"}, \"showlegend\": false}, {\"type\": \"scatter\", \"x\": [\"2017-04-04\"], \"y\": [3.7333333333333334], \"mode\": \"markers\", \"name\": \"Golden State Warriors Game\", \"marker\": {\"color\": \"salmon\"}, \"showlegend\": false}, {\"type\": \"scatter\", \"x\": [\"2017-01-18\"], \"y\": [3.7333333333333334], \"mode\": \"markers\", \"name\": \"Golden State Warriors Game\", \"marker\": {\"color\": \"salmon\"}, \"showlegend\": false}, {\"type\": \"scatter\", \"x\": [\"2016-12-28\"], \"y\": [3.7333333333333334], \"mode\": \"markers\", \"name\": \"Golden State Warriors Game\", \"marker\": {\"color\": \"salmon\"}, \"showlegend\": false}, {\"type\": \"scatter\", \"x\": [\"2017-04-05\"], \"y\": [3.7333333333333334], \"mode\": \"markers\", \"name\": \"Golden State Warriors Game\", \"marker\": {\"color\": \"salmon\"}, \"showlegend\": false}, {\"type\": \"scatter\", \"x\": [\"2016-11-21\"], \"y\": [3.7333333333333334], \"mode\": \"markers\", \"name\": \"Golden State Warriors Game\", \"marker\": {\"color\": \"salmon\"}, \"showlegend\": false}, {\"type\": \"scatter\", \"x\": [\"2017-03-06\"], \"y\": [3.7333333333333334], \"mode\": \"markers\", \"name\": \"Golden State Warriors Game\", \"marker\": {\"color\": \"salmon\"}, \"showlegend\": false}, {\"type\": \"scatter\", \"x\": [\"2017-02-27\"], \"y\": [3.7333333333333334], \"mode\": \"markers\", \"name\": \"Golden State Warriors Game\", \"marker\": {\"color\": \"salmon\"}, \"showlegend\": false}, {\"type\": \"scatter\", \"x\": [\"2017-01-06\"], \"y\": [3.7333333333333334], \"mode\": \"markers\", \"name\": \"Golden State Warriors Game\", \"marker\": {\"color\": \"salmon\"}, \"showlegend\": false}, {\"type\": \"scatter\", \"x\": [\"2016-12-23\"], \"y\": [3.7333333333333334], \"mode\": \"markers\", \"name\": \"Golden State Warriors Game\", \"marker\": {\"color\": \"salmon\"}, \"showlegend\": false}, {\"type\": \"scatter\", \"x\": [\"2017-01-22\"], \"y\": [3.7333333333333334], \"mode\": \"markers\", \"name\": \"Golden State Warriors Game\", \"marker\": {\"color\": \"salmon\"}, \"showlegend\": false}, {\"type\": \"scatter\", \"x\": [\"2017-03-18\"], \"y\": [3.7333333333333334], \"mode\": \"markers\", \"name\": \"Golden State Warriors Game\", \"marker\": {\"color\": \"salmon\"}, \"showlegend\": false}, {\"type\": \"scatter\", \"x\": [\"2017-01-08\"], \"y\": [3.7333333333333334], \"mode\": \"markers\", \"name\": \"Golden State Warriors Game\", \"marker\": {\"color\": \"salmon\"}, \"showlegend\": false}, {\"type\": \"scatter\", \"x\": [\"2016-12-22\"], \"y\": [3.7333333333333334], \"mode\": \"markers\", \"name\": \"Golden State Warriors Game\", \"marker\": {\"color\": \"salmon\"}, \"showlegend\": false}, {\"type\": \"scatter\", \"x\": [\"2016-12-11\"], \"y\": [3.7333333333333334], \"mode\": \"markers\", \"name\": \"Golden State Warriors Game\", \"marker\": {\"color\": \"salmon\"}, \"showlegend\": false}, {\"type\": \"scatter\", \"x\": [\"2016-11-09\"], \"y\": [3.7333333333333334], \"mode\": \"markers\", \"name\": \"Golden State Warriors Game\", \"marker\": {\"color\": \"salmon\"}, \"showlegend\": false}, {\"type\": \"scatter\", \"x\": [\"2016-11-07\"], \"y\": [3.7333333333333334], \"mode\": \"markers\", \"name\": \"Golden State Warriors Game\", \"marker\": {\"color\": \"salmon\"}, \"showlegend\": false}, {\"type\": \"scatter\", \"x\": [\"2016-12-07\"], \"y\": [3.7333333333333334], \"mode\": \"markers\", \"name\": \"Golden State Warriors Game\", \"marker\": {\"color\": \"salmon\"}, \"showlegend\": false}, {\"type\": \"scatter\", \"x\": [\"2016-11-26\"], \"y\": [3.7333333333333334], \"mode\": \"markers\", \"name\": \"Golden State Warriors Game\", \"marker\": {\"color\": \"salmon\"}, \"showlegend\": false}, {\"type\": \"scatter\", \"x\": [\"2017-03-24\"], \"y\": [3.7333333333333334], \"mode\": \"markers\", \"name\": \"Golden State Warriors Game\", \"marker\": {\"color\": \"salmon\"}, \"showlegend\": false}, {\"type\": \"scatter\", \"x\": [\"2017-03-28\"], \"y\": [3.7333333333333334], \"mode\": \"markers\", \"name\": \"Golden State Warriors Game\", \"marker\": {\"color\": \"salmon\"}, \"showlegend\": false}, {\"type\": \"scatter\", \"x\": [\"2017-01-29\"], \"y\": [3.7333333333333334], \"mode\": \"markers\", \"name\": \"Golden State Warriors Game\", \"marker\": {\"color\": \"salmon\"}, \"showlegend\": false}, {\"type\": \"scatter\", \"x\": [\"2017-01-25\"], \"y\": [3.7333333333333334], \"mode\": \"markers\", \"name\": \"Golden State Warriors Game\", \"marker\": {\"color\": \"salmon\"}, \"showlegend\": false}, {\"type\": \"scatter\", \"x\": [\"2016-12-13\"], \"y\": [3.7333333333333334], \"mode\": \"markers\", \"name\": \"Golden State Warriors Game\", \"marker\": {\"color\": \"salmon\"}, \"showlegend\": false}, {\"type\": \"scatter\", \"x\": [\"2017-03-21\"], \"y\": [3.7333333333333334], \"mode\": \"markers\", \"name\": \"Golden State Warriors Game\", \"marker\": {\"color\": \"salmon\"}, \"showlegend\": false}, {\"type\": \"scatter\", \"x\": [\"2017-03-05\"], \"y\": [3.7333333333333334], \"mode\": \"markers\", \"name\": \"Golden State Warriors Game\", \"marker\": {\"color\": \"salmon\"}, \"showlegend\": false}, {\"type\": \"scatter\", \"x\": [\"2017-02-25\"], \"y\": [3.7333333333333334], \"mode\": \"markers\", \"name\": \"Golden State Warriors Game\", \"marker\": {\"color\": \"salmon\"}, \"showlegend\": false}, {\"type\": \"scatter\", \"x\": [\"2017-03-20\"], \"y\": [3.7333333333333334], \"mode\": \"markers\", \"name\": \"Golden State Warriors Game\", \"marker\": {\"color\": \"salmon\"}, \"showlegend\": false}, {\"type\": \"scatter\", \"x\": [\"2017-03-29\"], \"y\": [3.7333333333333334], \"mode\": \"markers\", \"name\": \"Golden State Warriors Game\", \"marker\": {\"color\": \"salmon\"}, \"showlegend\": false}, {\"type\": \"scatter\", \"x\": [\"2017-02-13\"], \"y\": [3.7333333333333334], \"mode\": \"markers\", \"name\": \"Golden State Warriors Game\", \"marker\": {\"color\": \"salmon\"}, \"showlegend\": false}, {\"type\": \"scatter\", \"x\": [\"2017-04-12\"], \"y\": [3.7333333333333334], \"mode\": \"markers\", \"name\": \"Golden State Warriors Game\", \"marker\": {\"color\": \"salmon\"}, \"showlegend\": false}, {\"type\": \"scatter\", \"x\": [\"2017-02-15\"], \"y\": [3.7333333333333334], \"mode\": \"markers\", \"name\": \"Golden State Warriors Game\", \"marker\": {\"color\": \"salmon\"}, \"showlegend\": false}, {\"type\": \"scatter\", \"x\": [\"2016-11-25\"], \"y\": [3.7333333333333334], \"mode\": \"markers\", \"name\": \"Golden State Warriors Game\", \"marker\": {\"color\": \"salmon\"}, \"showlegend\": false}, {\"type\": \"scatter\", \"x\": [\"2017-02-28\"], \"y\": [3.7333333333333334], \"mode\": \"markers\", \"name\": \"Golden State Warriors Game\", \"marker\": {\"color\": \"salmon\"}, \"showlegend\": false}, {\"type\": \"scatter\", \"x\": [\"2016-12-30\"], \"y\": [3.7333333333333334], \"mode\": \"markers\", \"name\": \"Golden State Warriors Game\", \"marker\": {\"color\": \"salmon\"}, \"showlegend\": false}, {\"type\": \"scatter\", \"x\": [\"2016-12-25\"], \"y\": [3.7333333333333334], \"mode\": \"markers\", \"name\": \"Golden State Warriors Game\", \"marker\": {\"color\": \"salmon\"}, \"showlegend\": false}, {\"type\": \"scatter\", \"x\": [\"2017-03-31\"], \"y\": [3.7333333333333334], \"mode\": \"markers\", \"name\": \"Golden State Warriors Game\", \"marker\": {\"color\": \"salmon\"}, \"showlegend\": false}, {\"type\": \"scatter\", \"x\": [\"2017-01-10\"], \"y\": [3.7333333333333334], \"mode\": \"markers\", \"name\": \"Golden State Warriors Game\", \"marker\": {\"color\": \"salmon\"}, \"showlegend\": false}, {\"type\": \"scatter\", \"x\": [\"2017-03-26\"], \"y\": [3.7333333333333334], \"mode\": \"markers\", \"name\": \"Golden State Warriors Game\", \"marker\": {\"color\": \"salmon\"}, \"showlegend\": false}, {\"type\": \"scatter\", \"x\": [\"2017-03-14\"], \"y\": [3.7333333333333334], \"mode\": \"markers\", \"name\": \"Golden State Warriors Game\", \"marker\": {\"color\": \"salmon\"}, \"showlegend\": false}, {\"type\": \"scatter\", \"x\": [\"2017-02-04\"], \"y\": [3.7333333333333334], \"mode\": \"markers\", \"name\": \"Golden State Warriors Game\", \"marker\": {\"color\": \"salmon\"}, \"showlegend\": false}, {\"type\": \"scatter\", \"x\": [\"2016-12-08\"], \"y\": [3.7333333333333334], \"mode\": \"markers\", \"name\": \"Golden State Warriors Game\", \"marker\": {\"color\": \"salmon\"}, \"showlegend\": false}, {\"type\": \"scatter\", \"x\": [\"2016-10-30\"], \"y\": [3.7333333333333334], \"mode\": \"markers\", \"name\": \"Golden State Warriors Game\", \"marker\": {\"color\": \"salmon\"}, \"showlegend\": false}, {\"type\": \"scatter\", \"x\": [\"2016-11-28\"], \"y\": [3.7333333333333334], \"mode\": \"markers\", \"name\": \"Golden State Warriors Game\", \"marker\": {\"color\": \"salmon\"}, \"showlegend\": false}, {\"type\": \"scatter\", \"x\": [\"2016-12-20\"], \"y\": [3.7333333333333334], \"mode\": \"markers\", \"name\": \"Golden State Warriors Game\", \"marker\": {\"color\": \"salmon\"}, \"showlegend\": false}, {\"type\": \"scatter\", \"x\": [\"2016-11-18\"], \"y\": [3.7333333333333334], \"mode\": \"markers\", \"name\": \"Golden State Warriors Game\", \"marker\": {\"color\": \"salmon\"}, \"showlegend\": false}, {\"type\": \"scatter\", \"x\": [\"2016-12-15\"], \"y\": [3.7333333333333334], \"mode\": \"markers\", \"name\": \"Golden State Warriors Game\", \"marker\": {\"color\": \"salmon\"}, \"showlegend\": false}, {\"type\": \"scatter\", \"x\": [\"2017-03-10\"], \"y\": [3.7333333333333334], \"mode\": \"markers\", \"name\": \"Golden State Warriors Game\", \"marker\": {\"color\": \"salmon\"}, \"showlegend\": false}, {\"type\": \"scatter\", \"x\": [\"2017-01-23\"], \"y\": [3.7333333333333334], \"mode\": \"markers\", \"name\": \"Golden State Warriors Game\", \"marker\": {\"color\": \"salmon\"}, \"showlegend\": false}, {\"type\": \"scatter\", \"x\": [\"2016-10-25\"], \"y\": [3.7333333333333334], \"mode\": \"markers\", \"name\": \"Golden State Warriors Game\", \"marker\": {\"color\": \"salmon\"}, \"showlegend\": false}, {\"type\": \"scatter\", \"x\": [\"2017-04-10\"], \"y\": [3.7333333333333334], \"mode\": \"markers\", \"name\": \"Golden State Warriors Game\", \"marker\": {\"color\": \"salmon\"}, \"showlegend\": false}, {\"type\": \"scatter\", \"x\": [\"2016-11-04\"], \"y\": [3.7333333333333334], \"mode\": \"markers\", \"name\": \"Golden State Warriors Game\", \"marker\": {\"color\": \"salmon\"}, \"showlegend\": false}, {\"type\": \"scatter\", \"x\": [\"2016-12-10\"], \"y\": [3.7333333333333334], \"mode\": \"markers\", \"name\": \"Golden State Warriors Game\", \"marker\": {\"color\": \"salmon\"}, \"showlegend\": false}, {\"type\": \"scatter\", \"x\": [\"2017-03-02\"], \"y\": [3.7333333333333334], \"mode\": \"markers\", \"name\": \"Golden State Warriors Game\", \"marker\": {\"color\": \"salmon\"}, \"showlegend\": false}, {\"type\": \"scatter\", \"x\": [\"2017-03-08\"], \"y\": [3.7333333333333334], \"mode\": \"markers\", \"name\": \"Golden State Warriors Game\", \"marker\": {\"color\": \"salmon\"}, \"showlegend\": false}, {\"type\": \"scatter\", \"x\": [\"2017-03-11\"], \"y\": [3.7333333333333334], \"mode\": \"markers\", \"name\": \"Golden State Warriors Game\", \"marker\": {\"color\": \"salmon\"}, \"showlegend\": false}], {\"title\": \"Daily Sleep Total, 6pm to 6pm\", \"yaxis\": {\"title\": \"Hours Asleep\"}}, {\"showLink\": true, \"linkText\": \"Export to plot.ly\"})});</script>"
      ],
      "text/vnd.plotly.v1+html": [
       "<div id=\"29a66697-ab1f-4942-863b-545c9e16170f\" style=\"height: 525px; width: 100%;\" class=\"plotly-graph-div\"></div><script type=\"text/javascript\">require([\"plotly\"], function(Plotly) { window.PLOTLYENV=window.PLOTLYENV || {};window.PLOTLYENV.BASE_URL=\"https://plot.ly\";Plotly.newPlot(\"29a66697-ab1f-4942-863b-545c9e16170f\", [{\"type\": \"scatter\", \"x\": [\"2016-11-09\", \"2016-11-10\", \"2016-11-11\", \"2016-11-12\", \"2016-11-13\", \"2016-11-14\", \"2016-11-15\", \"2016-11-16\", \"2016-11-17\", \"2016-11-18\", \"2016-11-19\", \"2016-11-20\", \"2016-11-21\", \"2016-11-22\", \"2016-11-23\", \"2016-11-24\", \"2016-11-25\", \"2016-11-26\", \"2016-11-27\", \"2016-11-28\", \"2016-11-29\", \"2016-11-30\", \"2016-12-01\", \"2016-12-02\", \"2016-12-03\", \"2016-12-04\", \"2016-12-05\", \"2016-12-06\", \"2016-12-07\", \"2016-12-08\", \"2016-12-09\", \"2016-12-10\", \"2016-12-11\", \"2016-12-12\", \"2016-12-13\", \"2016-12-14\", \"2016-12-15\", \"2016-12-16\", \"2016-12-17\", \"2016-12-18\", \"2016-12-19\", \"2016-12-20\", \"2016-12-21\", \"2016-12-22\", \"2016-12-23\", \"2016-12-24\", \"2016-12-25\", \"2016-12-26\", \"2016-12-27\", \"2016-12-28\", \"2016-12-29\", \"2016-12-30\", \"2016-12-31\", \"2017-01-01\", \"2017-01-02\", \"2017-01-03\", \"2017-01-04\", \"2017-01-05\", \"2017-01-06\", \"2017-01-07\", \"2017-01-08\", \"2017-01-09\", \"2017-01-10\", \"2017-01-11\", \"2017-01-12\", \"2017-01-13\", \"2017-01-14\", \"2017-01-15\", \"2017-01-16\", \"2017-01-17\", \"2017-01-18\", \"2017-01-19\", \"2017-01-20\", \"2017-01-21\", \"2017-01-22\", \"2017-01-23\", \"2017-01-24\", \"2017-01-25\", \"2017-01-26\", \"2017-01-27\", \"2017-01-28\", \"2017-01-29\", \"2017-01-30\", \"2017-01-31\", \"2017-02-01\", \"2017-02-02\", \"2017-02-03\", \"2017-02-04\", \"2017-02-05\", \"2017-02-06\", \"2017-02-07\", \"2017-02-08\", \"2017-02-09\", \"2017-02-10\", \"2017-02-11\", \"2017-02-12\", \"2017-02-13\", \"2017-02-14\", \"2017-02-15\", \"2017-02-16\", \"2017-02-17\", \"2017-02-18\", \"2017-02-19\", \"2017-02-20\", \"2017-02-21\", \"2017-02-22\", \"2017-02-23\", \"2017-02-24\", \"2017-02-25\", \"2017-02-26\", \"2017-02-27\", \"2017-02-28\", \"2017-03-01\", \"2017-03-02\", \"2017-03-03\", \"2017-03-04\", \"2017-03-05\", \"2017-03-06\", \"2017-03-07\", \"2017-03-08\", \"2017-03-09\", \"2017-03-10\", \"2017-03-11\", \"2017-03-12\", \"2017-03-13\", \"2017-03-14\", \"2017-03-15\", \"2017-03-16\", \"2017-03-17\", \"2017-03-18\", \"2017-03-19\", \"2017-03-20\", \"2017-03-21\", \"2017-03-22\", \"2017-03-23\", \"2017-03-24\", \"2017-03-25\", \"2017-03-26\", \"2017-03-27\", \"2017-03-28\", \"2017-03-29\", \"2017-03-30\", \"2017-03-31\", \"2017-04-01\", \"2017-04-02\", \"2017-04-03\", \"2017-04-04\", \"2017-04-05\", \"2017-04-06\", \"2017-04-07\", \"2017-04-08\", \"2017-04-09\", \"2017-04-10\", \"2017-04-11\", \"2017-04-12\", \"2017-04-13\", \"2017-04-14\", \"2017-04-15\", \"2017-04-16\", \"2017-04-17\", \"2017-04-18\", \"2017-04-19\", \"2017-04-20\", \"2017-04-21\", \"2017-04-22\", \"2017-04-23\", \"2017-04-24\", \"2017-04-25\", \"2017-04-26\", \"2017-04-27\", \"2017-04-28\", \"2017-04-29\", \"2017-04-30\", \"2017-05-01\", \"2017-05-02\", \"2017-05-03\", \"2017-05-04\", \"2017-05-05\", \"2017-05-06\", \"2017-05-07\", \"2017-05-08\", \"2017-05-09\", \"2017-05-10\", \"2017-05-11\", \"2017-05-12\", \"2017-05-13\", \"2017-05-14\", \"2017-05-15\", \"2017-05-16\", \"2017-05-17\", \"2017-05-18\", \"2017-05-19\", \"2017-05-20\", \"2017-05-21\", \"2017-05-22\", \"2017-05-23\", \"2017-05-24\", \"2017-05-25\", \"2017-05-26\", \"2017-05-27\", \"2017-05-28\", \"2017-05-29\", \"2017-05-30\", \"2017-05-31\", \"2017-06-01\", \"2017-06-02\", \"2017-06-03\", \"2017-06-04\", \"2017-06-05\", \"2017-06-06\", \"2017-06-07\", \"2017-06-08\", \"2017-06-09\", \"2017-06-10\", \"2017-06-11\", \"2017-06-12\", \"2017-06-13\", \"2017-06-14\", \"2017-06-15\", \"2017-06-16\", \"2017-06-17\", \"2017-06-18\", \"2017-06-19\", \"2017-06-20\", \"2017-06-21\", \"2017-06-22\", \"2017-06-23\", \"2017-06-24\", \"2017-06-25\", \"2017-06-26\", \"2017-06-27\", \"2017-06-28\", \"2017-06-29\", \"2017-06-30\", \"2017-07-01\", \"2017-07-02\", \"2017-07-03\", \"2017-07-04\", \"2017-07-05\", \"2017-07-06\", \"2017-07-07\", \"2017-07-08\", \"2017-07-09\", \"2017-07-10\", \"2017-07-11\", \"2017-07-12\", \"2017-07-13\", \"2017-07-14\", \"2017-07-15\", \"2017-07-16\", \"2017-07-17\", \"2017-07-18\", \"2017-07-19\", \"2017-07-20\", \"2017-07-21\", \"2017-07-22\", \"2017-07-23\", \"2017-07-24\", \"2017-07-25\", \"2017-07-26\", \"2017-07-27\", \"2017-07-28\", \"2017-07-29\", \"2017-07-30\", \"2017-07-31\"], \"y\": [4.766666666666667, 6.95, 6.833333333333333, 7.233333333333333, 7.2, 5.2, 5.183333333333334, 4.25, 8.283333333333333, 6.116666666666666, 6.383333333333334, 6.533333333333333, 7.983333333333333, 5.433333333333334, 7.333333333333333, 4.55, 7.95, 5.966666666666667, 7.95, 7.75, 5.75, 6.95, 4.966666666666667, 8.883333333333333, 8.183333333333334, 7.416666666666667, 5.766666666666667, 7.7, 7.066666666666666, 3.933333333333333, 6.633333333333334, 6.25, 6.466666666666667, 3.783333333333333, 7.583333333333333, 5.133333333333334, 5.6, 8.566666666666666, 8.166666666666666, 8.6, 7.916666666666667, 5.683333333333334, 6.433333333333334, 7.8, 5.6, 7.283333333333333, 7.916666666666667, 8.033333333333333, 6.3, 5.733333333333333, 5.833333333333333, 8.483333333333333, 8.0, 7.283333333333333, 6.65, 5.766666666666667, 5.4, 5.466666666666667, 5.716666666666667, 7.0, 8.033333333333333, 8.183333333333334, 6.05, 4.95, 6.5, 5.683333333333334, 8.966666666666667, 8.316666666666666, 6.366666666666666, 7.466666666666667, 8.383333333333333, 5.75, 7.583333333333333, 6.333333333333333, 4.9, 5.95, 7.266666666666667, 5.9, 6.866666666666666, 7.783333333333333, 6.85, 7.85, 7.516666666666667, 6.8, 6.85, 4.55, 8.033333333333333, 6.15, 7.633333333333334, 5.383333333333334, 7.316666666666666, 7.15, 7.233333333333333, 6.333333333333333, 7.766666666666667, 5.683333333333334, 5.85, 6.45, 6.266666666666667, 7.466666666666667, 9.566666666666666, 8.6, 7.716666666666667, 6.1, 7.016666666666667, 6.266666666666667, 7.383333333333334, 5.1, 6.116666666666666, 6.066666666666666, 7.1, 6.583333333333333, 5.583333333333333, 8.633333333333333, 7.0, 4.3, 9.916666666666666, 8.65, 3.9, 8.083333333333334, 5.033333333333333, 8.783333333333333, 5.616666666666666, 8.116666666666667, 8.3, 6.466666666666667, 7.65, 7.233333333333333, 4.866666666666666, 9.716666666666667, 6.566666666666666, 7.25, 5.666666666666667, 7.066666666666666, 6.9, 5.966666666666667, 5.866666666666666, 6.8, 7.733333333333333, 5.383333333333334, 5.516666666666667, 4.033333333333333, 7.833333333333333, 6.85, 6.983333333333333, 6.35, 7.683333333333334, 6.7, 5.116666666666666, 6.666666666666667, 6.233333333333333, 7.233333333333333, 6.666666666666667, 5.633333333333334, 6.333333333333333, 7.25, 6.533333333333333, 6.683333333333334, 8.566666666666666, 7.666666666666667, 6.966666666666667, 4.8, 7.5, 5.75, 6.55, 7.283333333333333, 6.6, 5.6, 5.15, 6.55, 4.95, 8.616666666666667, 8.0, 5.0, 6.5, 5.683333333333334, 4.366666666666666, 4.766666666666667, 6.75, 5.483333333333333, 7.083333333333333, 7.033333333333333, 5.033333333333333, 7.95, 5.316666666666666, 8.416666666666666, 8.1, 6.883333333333334, 6.416666666666667, 7.666666666666667, 5.216666666666667, 7.683333333333334, 6.416666666666667, 7.4, 6.4, 5.666666666666667, 4.266666666666667, 7.716666666666667, 6.766666666666667, 6.466666666666667, 7.3, 10.383333333333333, 8.116666666666667, 5.65, 6.666666666666667, 5.983333333333333, 8.733333333333333, 6.466666666666667, 7.55, 5.933333333333334, 6.216666666666667, 6.2, 5.8, 7.8, 7.3, 7.333333333333333, 5.95, 6.916666666666667, 6.233333333333333, 6.95, 9.65, 7.366666666666666, 7.133333333333334, 5.283333333333333, 5.166666666666667, 8.683333333333334, 5.95, 7.416666666666667, 7.916666666666667, 6.733333333333333, 7.583333333333333, 7.3, 10.116666666666667, 6.1, 6.983333333333333, 4.683333333333334, 5.4, 7.7, 4.533333333333333, 6.483333333333333, 5.216666666666667, 8.433333333333334, 5.066666666666666, 7.0, 7.7, 6.033333333333333, 7.716666666666667, 6.666666666666667, 5.766666666666667, 6.15, 8.716666666666667, 3.7333333333333334, 8.316666666666666, 5.583333333333333, 7.533333333333333, 7.966666666666667, 7.566666666666666, 7.85, 6.183333333333334, 7.333333333333333, 8.233333333333333, 5.583333333333333, 7.65, 8.316666666666666, 6.916666666666667], \"name\": \"Hours Asleep\"}, {\"type\": \"scatter\", \"x\": [\"2016-11-23\"], \"y\": [3.7333333333333334], \"mode\": \"markers\", \"name\": \"Golden State Warriors Game\", \"marker\": {\"color\": \"salmon\"}, \"showlegend\": true}, {\"type\": \"scatter\", \"x\": [\"2017-01-28\"], \"y\": [3.7333333333333334], \"mode\": \"markers\", \"name\": \"Golden State Warriors Game\", \"marker\": {\"color\": \"salmon\"}, \"showlegend\": false}, {\"type\": \"scatter\", \"x\": [\"2016-12-05\"], \"y\": [3.7333333333333334], \"mode\": \"markers\", \"name\": \"Golden State Warriors Game\", \"marker\": {\"color\": \"salmon\"}, \"showlegend\": false}, {\"type\": \"scatter\", \"x\": [\"2017-04-02\"], \"y\": [3.7333333333333334], \"mode\": \"markers\", \"name\": \"Golden State Warriors Game\", \"marker\": {\"color\": \"salmon\"}, \"showlegend\": false}, {\"type\": \"scatter\", \"x\": [\"2016-12-03\"], \"y\": [3.7333333333333334], \"mode\": \"markers\", \"name\": \"Golden State Warriors Game\", \"marker\": {\"color\": \"salmon\"}, \"showlegend\": false}, {\"type\": \"scatter\", \"x\": [\"2016-12-17\"], \"y\": [3.7333333333333334], \"mode\": \"markers\", \"name\": \"Golden State Warriors Game\", \"marker\": {\"color\": \"salmon\"}, \"showlegend\": false}, {\"type\": \"scatter\", \"x\": [\"2017-02-02\"], \"y\": [3.7333333333333334], \"mode\": \"markers\", \"name\": \"Golden State Warriors Game\", \"marker\": {\"color\": \"salmon\"}, \"showlegend\": false}, {\"type\": \"scatter\", \"x\": [\"2016-11-13\"], \"y\": [3.7333333333333334], \"mode\": \"markers\", \"name\": \"Golden State Warriors Game\", \"marker\": {\"color\": \"salmon\"}, \"showlegend\": false}, {\"type\": \"scatter\", \"x\": [\"2017-02-11\"], \"y\": [3.7333333333333334], \"mode\": \"markers\", \"name\": \"Golden State Warriors Game\", \"marker\": {\"color\": \"salmon\"}, \"showlegend\": false}, {\"type\": \"scatter\", \"x\": [\"2017-01-12\"], \"y\": [3.7333333333333334], \"mode\": \"markers\", \"name\": \"Golden State Warriors Game\", \"marker\": {\"color\": \"salmon\"}, \"showlegend\": false}, {\"type\": \"scatter\", \"x\": [\"2017-01-02\"], \"y\": [3.7333333333333334], \"mode\": \"markers\", \"name\": \"Golden State Warriors Game\", \"marker\": {\"color\": \"salmon\"}, \"showlegend\": false}, {\"type\": \"scatter\", \"x\": [\"2016-12-01\"], \"y\": [3.7333333333333334], \"mode\": \"markers\", \"name\": \"Golden State Warriors Game\", \"marker\": {\"color\": \"salmon\"}, \"showlegend\": false}, {\"type\": \"scatter\", \"x\": [\"2016-11-16\"], \"y\": [3.7333333333333334], \"mode\": \"markers\", \"name\": \"Golden State Warriors Game\", \"marker\": {\"color\": \"salmon\"}, \"showlegend\": false}, {\"type\": \"scatter\", \"x\": [\"2016-11-01\"], \"y\": [3.7333333333333334], \"mode\": \"markers\", \"name\": \"Golden State Warriors Game\", \"marker\": {\"color\": \"salmon\"}, \"showlegend\": false}, {\"type\": \"scatter\", \"x\": [\"2017-02-01\"], \"y\": [3.7333333333333334], \"mode\": \"markers\", \"name\": \"Golden State Warriors Game\", \"marker\": {\"color\": \"salmon\"}, \"showlegend\": false}, {\"type\": \"scatter\", \"x\": [\"2017-01-16\"], \"y\": [3.7333333333333334], \"mode\": \"markers\", \"name\": \"Golden State Warriors Game\", \"marker\": {\"color\": \"salmon\"}, \"showlegend\": false}, {\"type\": \"scatter\", \"x\": [\"2017-01-20\"], \"y\": [3.7333333333333334], \"mode\": \"markers\", \"name\": \"Golden State Warriors Game\", \"marker\": {\"color\": \"salmon\"}, \"showlegend\": false}, {\"type\": \"scatter\", \"x\": [\"2017-01-04\"], \"y\": [3.7333333333333334], \"mode\": \"markers\", \"name\": \"Golden State Warriors Game\", \"marker\": {\"color\": \"salmon\"}, \"showlegend\": false}, {\"type\": \"scatter\", \"x\": [\"2016-11-10\"], \"y\": [3.7333333333333334], \"mode\": \"markers\", \"name\": \"Golden State Warriors Game\", \"marker\": {\"color\": \"salmon\"}, \"showlegend\": false}, {\"type\": \"scatter\", \"x\": [\"2016-11-19\"], \"y\": [3.7333333333333334], \"mode\": \"markers\", \"name\": \"Golden State Warriors Game\", \"marker\": {\"color\": \"salmon\"}, \"showlegend\": false}, {\"type\": \"scatter\", \"x\": [\"2017-04-08\"], \"y\": [3.7333333333333334], \"mode\": \"markers\", \"name\": \"Golden State Warriors Game\", \"marker\": {\"color\": \"salmon\"}, \"showlegend\": false}, {\"type\": \"scatter\", \"x\": [\"2017-02-23\"], \"y\": [3.7333333333333334], \"mode\": \"markers\", \"name\": \"Golden State Warriors Game\", \"marker\": {\"color\": \"salmon\"}, \"showlegend\": false}, {\"type\": \"scatter\", \"x\": [\"2017-02-08\"], \"y\": [3.7333333333333334], \"mode\": \"markers\", \"name\": \"Golden State Warriors Game\", \"marker\": {\"color\": \"salmon\"}, \"showlegend\": false}, {\"type\": \"scatter\", \"x\": [\"2017-03-16\"], \"y\": [3.7333333333333334], \"mode\": \"markers\", \"name\": \"Golden State Warriors Game\", \"marker\": {\"color\": \"salmon\"}, \"showlegend\": false}, {\"type\": \"scatter\", \"x\": [\"2017-02-10\"], \"y\": [3.7333333333333334], \"mode\": \"markers\", \"name\": \"Golden State Warriors Game\", \"marker\": {\"color\": \"salmon\"}, \"showlegend\": false}, {\"type\": \"scatter\", \"x\": [\"2016-11-03\"], \"y\": [3.7333333333333334], \"mode\": \"markers\", \"name\": \"Golden State Warriors Game\", \"marker\": {\"color\": \"salmon\"}, \"showlegend\": false}, {\"type\": \"scatter\", \"x\": [\"2016-10-28\"], \"y\": [3.7333333333333334], \"mode\": \"markers\", \"name\": \"Golden State Warriors Game\", \"marker\": {\"color\": \"salmon\"}, \"showlegend\": false}, {\"type\": \"scatter\", \"x\": [\"2017-04-04\"], \"y\": [3.7333333333333334], \"mode\": \"markers\", \"name\": \"Golden State Warriors Game\", \"marker\": {\"color\": \"salmon\"}, \"showlegend\": false}, {\"type\": \"scatter\", \"x\": [\"2017-01-18\"], \"y\": [3.7333333333333334], \"mode\": \"markers\", \"name\": \"Golden State Warriors Game\", \"marker\": {\"color\": \"salmon\"}, \"showlegend\": false}, {\"type\": \"scatter\", \"x\": [\"2016-12-28\"], \"y\": [3.7333333333333334], \"mode\": \"markers\", \"name\": \"Golden State Warriors Game\", \"marker\": {\"color\": \"salmon\"}, \"showlegend\": false}, {\"type\": \"scatter\", \"x\": [\"2017-04-05\"], \"y\": [3.7333333333333334], \"mode\": \"markers\", \"name\": \"Golden State Warriors Game\", \"marker\": {\"color\": \"salmon\"}, \"showlegend\": false}, {\"type\": \"scatter\", \"x\": [\"2016-11-21\"], \"y\": [3.7333333333333334], \"mode\": \"markers\", \"name\": \"Golden State Warriors Game\", \"marker\": {\"color\": \"salmon\"}, \"showlegend\": false}, {\"type\": \"scatter\", \"x\": [\"2017-03-06\"], \"y\": [3.7333333333333334], \"mode\": \"markers\", \"name\": \"Golden State Warriors Game\", \"marker\": {\"color\": \"salmon\"}, \"showlegend\": false}, {\"type\": \"scatter\", \"x\": [\"2017-02-27\"], \"y\": [3.7333333333333334], \"mode\": \"markers\", \"name\": \"Golden State Warriors Game\", \"marker\": {\"color\": \"salmon\"}, \"showlegend\": false}, {\"type\": \"scatter\", \"x\": [\"2017-01-06\"], \"y\": [3.7333333333333334], \"mode\": \"markers\", \"name\": \"Golden State Warriors Game\", \"marker\": {\"color\": \"salmon\"}, \"showlegend\": false}, {\"type\": \"scatter\", \"x\": [\"2016-12-23\"], \"y\": [3.7333333333333334], \"mode\": \"markers\", \"name\": \"Golden State Warriors Game\", \"marker\": {\"color\": \"salmon\"}, \"showlegend\": false}, {\"type\": \"scatter\", \"x\": [\"2017-01-22\"], \"y\": [3.7333333333333334], \"mode\": \"markers\", \"name\": \"Golden State Warriors Game\", \"marker\": {\"color\": \"salmon\"}, \"showlegend\": false}, {\"type\": \"scatter\", \"x\": [\"2017-03-18\"], \"y\": [3.7333333333333334], \"mode\": \"markers\", \"name\": \"Golden State Warriors Game\", \"marker\": {\"color\": \"salmon\"}, \"showlegend\": false}, {\"type\": \"scatter\", \"x\": [\"2017-01-08\"], \"y\": [3.7333333333333334], \"mode\": \"markers\", \"name\": \"Golden State Warriors Game\", \"marker\": {\"color\": \"salmon\"}, \"showlegend\": false}, {\"type\": \"scatter\", \"x\": [\"2016-12-22\"], \"y\": [3.7333333333333334], \"mode\": \"markers\", \"name\": \"Golden State Warriors Game\", \"marker\": {\"color\": \"salmon\"}, \"showlegend\": false}, {\"type\": \"scatter\", \"x\": [\"2016-12-11\"], \"y\": [3.7333333333333334], \"mode\": \"markers\", \"name\": \"Golden State Warriors Game\", \"marker\": {\"color\": \"salmon\"}, \"showlegend\": false}, {\"type\": \"scatter\", \"x\": [\"2016-11-09\"], \"y\": [3.7333333333333334], \"mode\": \"markers\", \"name\": \"Golden State Warriors Game\", \"marker\": {\"color\": \"salmon\"}, \"showlegend\": false}, {\"type\": \"scatter\", \"x\": [\"2016-11-07\"], \"y\": [3.7333333333333334], \"mode\": \"markers\", \"name\": \"Golden State Warriors Game\", \"marker\": {\"color\": \"salmon\"}, \"showlegend\": false}, {\"type\": \"scatter\", \"x\": [\"2016-12-07\"], \"y\": [3.7333333333333334], \"mode\": \"markers\", \"name\": \"Golden State Warriors Game\", \"marker\": {\"color\": \"salmon\"}, \"showlegend\": false}, {\"type\": \"scatter\", \"x\": [\"2016-11-26\"], \"y\": [3.7333333333333334], \"mode\": \"markers\", \"name\": \"Golden State Warriors Game\", \"marker\": {\"color\": \"salmon\"}, \"showlegend\": false}, {\"type\": \"scatter\", \"x\": [\"2017-03-24\"], \"y\": [3.7333333333333334], \"mode\": \"markers\", \"name\": \"Golden State Warriors Game\", \"marker\": {\"color\": \"salmon\"}, \"showlegend\": false}, {\"type\": \"scatter\", \"x\": [\"2017-03-28\"], \"y\": [3.7333333333333334], \"mode\": \"markers\", \"name\": \"Golden State Warriors Game\", \"marker\": {\"color\": \"salmon\"}, \"showlegend\": false}, {\"type\": \"scatter\", \"x\": [\"2017-01-29\"], \"y\": [3.7333333333333334], \"mode\": \"markers\", \"name\": \"Golden State Warriors Game\", \"marker\": {\"color\": \"salmon\"}, \"showlegend\": false}, {\"type\": \"scatter\", \"x\": [\"2017-01-25\"], \"y\": [3.7333333333333334], \"mode\": \"markers\", \"name\": \"Golden State Warriors Game\", \"marker\": {\"color\": \"salmon\"}, \"showlegend\": false}, {\"type\": \"scatter\", \"x\": [\"2016-12-13\"], \"y\": [3.7333333333333334], \"mode\": \"markers\", \"name\": \"Golden State Warriors Game\", \"marker\": {\"color\": \"salmon\"}, \"showlegend\": false}, {\"type\": \"scatter\", \"x\": [\"2017-03-21\"], \"y\": [3.7333333333333334], \"mode\": \"markers\", \"name\": \"Golden State Warriors Game\", \"marker\": {\"color\": \"salmon\"}, \"showlegend\": false}, {\"type\": \"scatter\", \"x\": [\"2017-03-05\"], \"y\": [3.7333333333333334], \"mode\": \"markers\", \"name\": \"Golden State Warriors Game\", \"marker\": {\"color\": \"salmon\"}, \"showlegend\": false}, {\"type\": \"scatter\", \"x\": [\"2017-02-25\"], \"y\": [3.7333333333333334], \"mode\": \"markers\", \"name\": \"Golden State Warriors Game\", \"marker\": {\"color\": \"salmon\"}, \"showlegend\": false}, {\"type\": \"scatter\", \"x\": [\"2017-03-20\"], \"y\": [3.7333333333333334], \"mode\": \"markers\", \"name\": \"Golden State Warriors Game\", \"marker\": {\"color\": \"salmon\"}, \"showlegend\": false}, {\"type\": \"scatter\", \"x\": [\"2017-03-29\"], \"y\": [3.7333333333333334], \"mode\": \"markers\", \"name\": \"Golden State Warriors Game\", \"marker\": {\"color\": \"salmon\"}, \"showlegend\": false}, {\"type\": \"scatter\", \"x\": [\"2017-02-13\"], \"y\": [3.7333333333333334], \"mode\": \"markers\", \"name\": \"Golden State Warriors Game\", \"marker\": {\"color\": \"salmon\"}, \"showlegend\": false}, {\"type\": \"scatter\", \"x\": [\"2017-04-12\"], \"y\": [3.7333333333333334], \"mode\": \"markers\", \"name\": \"Golden State Warriors Game\", \"marker\": {\"color\": \"salmon\"}, \"showlegend\": false}, {\"type\": \"scatter\", \"x\": [\"2017-02-15\"], \"y\": [3.7333333333333334], \"mode\": \"markers\", \"name\": \"Golden State Warriors Game\", \"marker\": {\"color\": \"salmon\"}, \"showlegend\": false}, {\"type\": \"scatter\", \"x\": [\"2016-11-25\"], \"y\": [3.7333333333333334], \"mode\": \"markers\", \"name\": \"Golden State Warriors Game\", \"marker\": {\"color\": \"salmon\"}, \"showlegend\": false}, {\"type\": \"scatter\", \"x\": [\"2017-02-28\"], \"y\": [3.7333333333333334], \"mode\": \"markers\", \"name\": \"Golden State Warriors Game\", \"marker\": {\"color\": \"salmon\"}, \"showlegend\": false}, {\"type\": \"scatter\", \"x\": [\"2016-12-30\"], \"y\": [3.7333333333333334], \"mode\": \"markers\", \"name\": \"Golden State Warriors Game\", \"marker\": {\"color\": \"salmon\"}, \"showlegend\": false}, {\"type\": \"scatter\", \"x\": [\"2016-12-25\"], \"y\": [3.7333333333333334], \"mode\": \"markers\", \"name\": \"Golden State Warriors Game\", \"marker\": {\"color\": \"salmon\"}, \"showlegend\": false}, {\"type\": \"scatter\", \"x\": [\"2017-03-31\"], \"y\": [3.7333333333333334], \"mode\": \"markers\", \"name\": \"Golden State Warriors Game\", \"marker\": {\"color\": \"salmon\"}, \"showlegend\": false}, {\"type\": \"scatter\", \"x\": [\"2017-01-10\"], \"y\": [3.7333333333333334], \"mode\": \"markers\", \"name\": \"Golden State Warriors Game\", \"marker\": {\"color\": \"salmon\"}, \"showlegend\": false}, {\"type\": \"scatter\", \"x\": [\"2017-03-26\"], \"y\": [3.7333333333333334], \"mode\": \"markers\", \"name\": \"Golden State Warriors Game\", \"marker\": {\"color\": \"salmon\"}, \"showlegend\": false}, {\"type\": \"scatter\", \"x\": [\"2017-03-14\"], \"y\": [3.7333333333333334], \"mode\": \"markers\", \"name\": \"Golden State Warriors Game\", \"marker\": {\"color\": \"salmon\"}, \"showlegend\": false}, {\"type\": \"scatter\", \"x\": [\"2017-02-04\"], \"y\": [3.7333333333333334], \"mode\": \"markers\", \"name\": \"Golden State Warriors Game\", \"marker\": {\"color\": \"salmon\"}, \"showlegend\": false}, {\"type\": \"scatter\", \"x\": [\"2016-12-08\"], \"y\": [3.7333333333333334], \"mode\": \"markers\", \"name\": \"Golden State Warriors Game\", \"marker\": {\"color\": \"salmon\"}, \"showlegend\": false}, {\"type\": \"scatter\", \"x\": [\"2016-10-30\"], \"y\": [3.7333333333333334], \"mode\": \"markers\", \"name\": \"Golden State Warriors Game\", \"marker\": {\"color\": \"salmon\"}, \"showlegend\": false}, {\"type\": \"scatter\", \"x\": [\"2016-11-28\"], \"y\": [3.7333333333333334], \"mode\": \"markers\", \"name\": \"Golden State Warriors Game\", \"marker\": {\"color\": \"salmon\"}, \"showlegend\": false}, {\"type\": \"scatter\", \"x\": [\"2016-12-20\"], \"y\": [3.7333333333333334], \"mode\": \"markers\", \"name\": \"Golden State Warriors Game\", \"marker\": {\"color\": \"salmon\"}, \"showlegend\": false}, {\"type\": \"scatter\", \"x\": [\"2016-11-18\"], \"y\": [3.7333333333333334], \"mode\": \"markers\", \"name\": \"Golden State Warriors Game\", \"marker\": {\"color\": \"salmon\"}, \"showlegend\": false}, {\"type\": \"scatter\", \"x\": [\"2016-12-15\"], \"y\": [3.7333333333333334], \"mode\": \"markers\", \"name\": \"Golden State Warriors Game\", \"marker\": {\"color\": \"salmon\"}, \"showlegend\": false}, {\"type\": \"scatter\", \"x\": [\"2017-03-10\"], \"y\": [3.7333333333333334], \"mode\": \"markers\", \"name\": \"Golden State Warriors Game\", \"marker\": {\"color\": \"salmon\"}, \"showlegend\": false}, {\"type\": \"scatter\", \"x\": [\"2017-01-23\"], \"y\": [3.7333333333333334], \"mode\": \"markers\", \"name\": \"Golden State Warriors Game\", \"marker\": {\"color\": \"salmon\"}, \"showlegend\": false}, {\"type\": \"scatter\", \"x\": [\"2016-10-25\"], \"y\": [3.7333333333333334], \"mode\": \"markers\", \"name\": \"Golden State Warriors Game\", \"marker\": {\"color\": \"salmon\"}, \"showlegend\": false}, {\"type\": \"scatter\", \"x\": [\"2017-04-10\"], \"y\": [3.7333333333333334], \"mode\": \"markers\", \"name\": \"Golden State Warriors Game\", \"marker\": {\"color\": \"salmon\"}, \"showlegend\": false}, {\"type\": \"scatter\", \"x\": [\"2016-11-04\"], \"y\": [3.7333333333333334], \"mode\": \"markers\", \"name\": \"Golden State Warriors Game\", \"marker\": {\"color\": \"salmon\"}, \"showlegend\": false}, {\"type\": \"scatter\", \"x\": [\"2016-12-10\"], \"y\": [3.7333333333333334], \"mode\": \"markers\", \"name\": \"Golden State Warriors Game\", \"marker\": {\"color\": \"salmon\"}, \"showlegend\": false}, {\"type\": \"scatter\", \"x\": [\"2017-03-02\"], \"y\": [3.7333333333333334], \"mode\": \"markers\", \"name\": \"Golden State Warriors Game\", \"marker\": {\"color\": \"salmon\"}, \"showlegend\": false}, {\"type\": \"scatter\", \"x\": [\"2017-03-08\"], \"y\": [3.7333333333333334], \"mode\": \"markers\", \"name\": \"Golden State Warriors Game\", \"marker\": {\"color\": \"salmon\"}, \"showlegend\": false}, {\"type\": \"scatter\", \"x\": [\"2017-03-11\"], \"y\": [3.7333333333333334], \"mode\": \"markers\", \"name\": \"Golden State Warriors Game\", \"marker\": {\"color\": \"salmon\"}, \"showlegend\": false}], {\"title\": \"Daily Sleep Total, 6pm to 6pm\", \"yaxis\": {\"title\": \"Hours Asleep\"}}, {\"showLink\": true, \"linkText\": \"Export to plot.ly\"})});</script>"
      ]
     },
     "metadata": {},
     "output_type": "display_data"
    }
   ],
   "source": [
    "toplot = sleep_day['minutesAsleep']/60.\n",
    "\n",
    "data = []\n",
    "\n",
    "data.append(\n",
    "    go.Scatter(\n",
    "        x=toplot.index,\n",
    "        y=toplot.values,\n",
    "        name='Hours Asleep'\n",
    "    )\n",
    ")\n",
    "\n",
    "shapes = []\n",
    "for idate, gsw_date in enumerate(gsw_dates):\n",
    "    if idate == 0:\n",
    "        showlegend = True\n",
    "    else:\n",
    "        showlegend = False\n",
    "    trace0 = go.Scatter(\n",
    "        x=[gsw_date],\n",
    "        y=[toplot.dropna().min()],\n",
    "        mode='markers',\n",
    "        name='Golden State Warriors Game',\n",
    "        marker=dict(\n",
    "            color='salmon'\n",
    "        ),\n",
    "        showlegend=showlegend\n",
    "    )\n",
    "    data.append(trace0)\n",
    "\n",
    "layout = go.Layout(\n",
    "    title=\"Daily Sleep Total, 6pm to 6pm\",\n",
    "    yaxis=dict(\n",
    "        title='Hours Asleep'\n",
    "    ),\n",
    ")\n",
    "\n",
    "fig = {\n",
    "    'data': data,\n",
    "    'layout': layout,\n",
    "}\n",
    "\n",
    "py.iplot(fig, filename='DailySleepTotal_GSWGames')"
   ]
  },
  {
   "cell_type": "markdown",
   "metadata": {
    "collapsed": true
   },
   "source": [
    "The NBA season starts at the end of October. I got my fitbit near the beginning of November, so there is a lot of overlap."
   ]
  },
  {
   "cell_type": "markdown",
   "metadata": {},
   "source": [
    "A simple test: sleep on the night of a Warriors game vs. all other nights. \n",
    "\n",
    "> Here, we have to be careful about the definition of a night of sleep. I follow Fitbit's convention and assert that hours of sleep on a given date correspond to falling asleep the night before and waking up the day of. So if I fall asleep on Tuesday August 8th at 11pm and wake up on Wednesday August 9th at 7am, then I got 8 hours of sleep on August 9th.\n",
    "\n",
    "To answer my question about sleep on the night of a Warriors game, I need to compare sleep the day AFTER the Warriors game to all other nights. E.g., the Warriors had a game on April 8, 2017. The relevant night of sleep for that game is April 9, 2017. A quick and dirty way to tackle this is by adding 24 hours to the Warriors game dates."
   ]
  },
  {
   "cell_type": "code",
   "execution_count": 17,
   "metadata": {},
   "outputs": [],
   "source": [
    "gsw_dates = pd.to_datetime(gsw_dates)"
   ]
  },
  {
   "cell_type": "code",
   "execution_count": 18,
   "metadata": {
    "collapsed": true
   },
   "outputs": [],
   "source": [
    "gswdatedf = pd.DataFrame(index=gsw_dates)"
   ]
  },
  {
   "cell_type": "code",
   "execution_count": 19,
   "metadata": {},
   "outputs": [],
   "source": [
    "gswdatedf['game_status'] = 1"
   ]
  },
  {
   "cell_type": "code",
   "execution_count": 20,
   "metadata": {},
   "outputs": [],
   "source": [
    "gswdatedf = gswdatedf.resample('1D').sum().fillna(0)"
   ]
  },
  {
   "cell_type": "code",
   "execution_count": 21,
   "metadata": {
    "collapsed": true
   },
   "outputs": [],
   "source": [
    "gswdatedf_next = gswdatedf.copy()\n",
    "gswdatedf_next.index += pd.Timedelta(hours=24)"
   ]
  },
  {
   "cell_type": "code",
   "execution_count": 22,
   "metadata": {
    "collapsed": true
   },
   "outputs": [],
   "source": [
    "sleepgsw = sleep_day.join(gswdatedf_next, how='inner')"
   ]
  },
  {
   "cell_type": "code",
   "execution_count": 23,
   "metadata": {
    "collapsed": true
   },
   "outputs": [],
   "source": [
    "sleepgswyes = sleepgsw.groupby('game_status').mean()"
   ]
  },
  {
   "cell_type": "code",
   "execution_count": 24,
   "metadata": {},
   "outputs": [
    {
     "data": {
      "text/plain": [
       "game_status\n",
       "0.0    6.949588\n",
       "1.0    6.490000\n",
       "Name: minutesAsleep, dtype: float64"
      ]
     },
     "execution_count": 24,
     "metadata": {},
     "output_type": "execute_result"
    }
   ],
   "source": [
    "sleepgswyes['minutesAsleep'] / 60"
   ]
  },
  {
   "cell_type": "markdown",
   "metadata": {
    "collapsed": true
   },
   "source": [
    "Interesting! The night of a Warriors game, I get almost half an hour less sleep than other nights. This is still not an enormous difference, so we should be cautious in our interpretation. In particular, there could be other factors at work driving this difference. For now, let's keep this in mind as we continue to explore possible predictors of my sleep patterns."
   ]
  },
  {
   "cell_type": "code",
   "execution_count": null,
   "metadata": {
    "collapsed": true
   },
   "outputs": [],
   "source": []
  }
 ],
 "metadata": {
  "kernelspec": {
   "display_name": "Python 3",
   "language": "python",
   "name": "python3"
  }
 },
 "nbformat": 4,
 "nbformat_minor": 2
}
