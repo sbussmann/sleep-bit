{
 "cells": [
  {
   "cell_type": "markdown",
   "metadata": {},
   "source": [
    "# Summary\n",
    "\n",
    "Use [`python-fitbit`](http://python-fitbit.readthedocs.io/en/latest/#) to interact with the Fitbit API and get sleep and intraday activity data. Store as json files in data/raw."
   ]
  },
  {
   "cell_type": "code",
   "execution_count": 1,
   "metadata": {
    "collapsed": true
   },
   "outputs": [],
   "source": [
    "%load_ext pypath_magic"
   ]
  },
  {
   "cell_type": "code",
   "execution_count": 2,
   "metadata": {},
   "outputs": [
    {
     "name": "stderr",
     "output_type": "stream",
     "text": [
      "UsageError: '/Users/rbussman/Projects/sleep-bit' is already in the user path.\n"
     ]
    }
   ],
   "source": [
    "%pypath -a /Users/rbussman/Projects/sleep-bit"
   ]
  },
  {
   "cell_type": "code",
   "execution_count": 3,
   "metadata": {
    "collapsed": true
   },
   "outputs": [],
   "source": [
    "from src.data import get_fitbit\n",
    "import matplotlib.pyplot as plt\n",
    "%matplotlib inline\n",
    "\n",
    "import seaborn as sns\n",
    "sns.set_context('poster')\n",
    "\n",
    "import pandas as pd\n",
    "import time"
   ]
  },
  {
   "cell_type": "code",
   "execution_count": 4,
   "metadata": {
    "collapsed": true
   },
   "outputs": [],
   "source": [
    "daterange = pd.date_range('2017-03-30', '2017-08-10')"
   ]
  },
  {
   "cell_type": "markdown",
   "metadata": {},
   "source": [
    "Intraday steps"
   ]
  },
  {
   "cell_type": "code",
   "execution_count": 5,
   "metadata": {},
   "outputs": [],
   "source": [
    "# fitbit limits API calls to 150 per hour\n",
    "rate_limit = 140\n",
    "api_calls = 0\n",
    "for date in daterange:\n",
    "    fitbit_data = get_fitbit.FitbitData(date, 'intraday')\n",
    "    sleep_log = fitbit_data.download_from_fitbit()\n",
    "    fitbit_data.write_to_disk(sleep_log)\n",
    "    api_calls += 1\n",
    "    if api_calls > rate_limit:\n",
    "        print(\"We've exceeded the fitbit rate limit. Pausing for 1 hour.\")\n",
    "        time.sleep(3600)\n",
    "        api_calls = 0\n",
    "    "
   ]
  },
  {
   "cell_type": "markdown",
   "metadata": {},
   "source": [
    "Sleep logs"
   ]
  },
  {
   "cell_type": "code",
   "execution_count": 5,
   "metadata": {
    "collapsed": true
   },
   "outputs": [],
   "source": [
    "# fitbit limits API calls to 150 per hour\n",
    "rate_limit = 140\n",
    "api_calls = 0\n",
    "for date in daterange:\n",
    "    fitbit_data = get_fitbit.FitbitData(date, 'sleep')\n",
    "    sleep_log = fitbit_data.download_from_fitbit()\n",
    "    fitbit_data.write_to_disk(sleep_log)\n",
    "    api_calls += 1\n",
    "    if api_calls > rate_limit:\n",
    "        print(\"We've exceeded the fitbit rate limit. Pausing for 1 hour.\")\n",
    "        time.sleep(3600)\n",
    "        api_calls = 0\n",
    "    "
   ]
  },
  {
   "cell_type": "code",
   "execution_count": null,
   "metadata": {
    "collapsed": true
   },
   "outputs": [],
   "source": []
  }
 ],
 "metadata": {
  "kernelspec": {
   "display_name": "Python 3",
   "language": "python",
   "name": "python3"
  },
  "language_info": {
   "codemirror_mode": {
    "name": "ipython",
    "version": 3
   },
   "file_extension": ".py",
   "mimetype": "text/x-python",
   "name": "python",
   "nbconvert_exporter": "python",
   "pygments_lexer": "ipython3",
   "version": "3.6.1"
  }
 },
 "nbformat": 4,
 "nbformat_minor": 2
}
